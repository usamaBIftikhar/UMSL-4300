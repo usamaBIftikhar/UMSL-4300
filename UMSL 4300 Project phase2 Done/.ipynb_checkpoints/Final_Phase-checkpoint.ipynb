{
 "cells": [
  {
   "cell_type": "markdown",
   "metadata": {
    "id": "0FyAoMKEIf-l"
   },
   "source": [
    "!!!! IMPORTANT NOTE !!!!\n",
    "Phase 1 and the first 3 code cells of Phase 2 must be ran before running Phase 3. It imports the data and normalizes it. It is not required to run all of Phase 2 in order to run Phase 3."
   ]
  },
  {
   "cell_type": "markdown",
   "metadata": {
    "id": "yQjEo09Vw6kq"
   },
   "source": [
    "# PHASE I\n",
    "\n",
    "\n"
   ]
  },
  {
   "cell_type": "code",
   "execution_count": null,
   "metadata": {
    "id": "QYeLLhy1o9PJ"
   },
   "outputs": [],
   "source": [
    "import numpy as np\n",
    "import pandas as pd\n",
    "import seaborn as sns\n",
    "import itertools\n",
    "import matplotlib.pyplot as plt\n",
    "import tensorflow as tf\n",
    "from google.colab import files\n",
    "from sklearn.preprocessing import LabelBinarizer\n",
    "from tensorflow.keras.models import Sequential\n",
    "from tensorflow.keras.layers import Dense\n",
    "from tensorflow.keras.optimizers import Adam\n",
    "from tensorflow.keras.metrics import categorical_crossentropy\n",
    "from keras.optimizers import SGD\n",
    "from sklearn.metrics import roc_curve, auc, confusion_matrix, accuracy_score, precision_score, recall_score, f1_score\n",
    "from keras.utils.vis_utils import plot_model\n",
    "\n"
   ]
  },
  {
   "cell_type": "markdown",
   "metadata": {
    "id": "kacRkD9Cu-sM"
   },
   "source": [
    "Bringing in the data file to assign as the dataset\n",
    "\n",
    "---\n",
    "\n"
   ]
  },
  {
   "cell_type": "code",
   "execution_count": null,
   "metadata": {
    "id": "DJHY-owg635b"
   },
   "outputs": [],
   "source": [
    "#file_name = 'adult1.csv'\n",
    "#files.upload()\n",
    "\n",
    "#read the data to dataset\n",
    "url = 'https://raw.githubusercontent.com/pango3001/AI/main/project/adult1.csv'\n",
    "\n",
    "dataset = pd.read_csv(url, delimiter=',')"
   ]
  },
  {
   "cell_type": "markdown",
   "metadata": {
    "id": "RfP-JXkX8mBP"
   },
   "source": [
    "Making sure our data has the right height and width"
   ]
  },
  {
   "cell_type": "code",
   "execution_count": null,
   "metadata": {
    "colab": {
     "base_uri": "https://localhost:8080/"
    },
    "id": "AYadAEaY8lCO",
    "outputId": "bc7cf8d5-7c28-49b8-e62b-984f2e7d5b88"
   },
   "outputs": [],
   "source": [
    "# print off rows and columns to make sure the dimensions are correct\n",
    "print(\"Rows: %s\" % dataset.shape[0])\n",
    "print(\"Columns: %s\" % dataset.shape[1])\n",
    "\n",
    "# head shows the first n amount of rows, in this case n=10\n",
    "dataset.head(10)"
   ]
  },
  {
   "cell_type": "code",
   "execution_count": null,
   "metadata": {
    "colab": {
     "base_uri": "https://localhost:8080/"
    },
    "id": "ojS7yQISE5-t",
    "outputId": "8651f1ae-4120-4ab4-f70f-b155c617e4cd"
   },
   "outputs": [],
   "source": [
    "plt.rcParams[\"figure.figsize\"] = ((13,13))\n",
    "dataset.hist()\n",
    "plt.show()"
   ]
  },
  {
   "cell_type": "code",
   "execution_count": null,
   "metadata": {
    "colab": {
     "base_uri": "https://localhost:8080/"
    },
    "id": "aMkbgaWf97ml",
    "outputId": "decc23b4-9cec-4e16-900d-e3a0da60ce75"
   },
   "outputs": [],
   "source": [
    "dataset.describe()"
   ]
  },
  {
   "cell_type": "code",
   "execution_count": null,
   "metadata": {
    "colab": {
     "base_uri": "https://localhost:8080/"
    },
    "id": "du-of7C0-jDK",
    "outputId": "f4ee55a8-c9a4-4b8f-a21c-bcfad2b0908f"
   },
   "outputs": [],
   "source": [
    "columns = ['age', 'workclass', 'fnlwgt', 'education', 'educationNum', 'maritalStatus', 'relationship', 'race', 'sex', 'capitalGain', 'capitalLoss', 'hoursPerWeek', 'country', 'earnings']\n",
    "c_length  = len(columns)\n",
    "c_colors  = [\"blue\", \"magenta\", \"yellow\", \"red\", \"cyan\", \"orange\", \"black\", \"blue\", \"magenta\", \"yellow\", \"red\", \"cyan\", \"orange\", \"black\"]\n",
    "\n",
    "import warnings\n",
    "warnings.filterwarnings(\"ignore\")\n",
    "\n",
    "plt.figure(figsize=(10, 25))\n",
    "for i, j, k in itertools.zip_longest(columns, range(c_length), c_colors):\n",
    "    plt.subplot(6, 3, j+1)\n",
    "    sns.distplot(dataset[i], color = k)\n",
    "    plt.title(i) # Title of column represented\n",
    "    plt.xlabel(\"\") # clears the x axis label\n",
    "    plt.subplots_adjust(hspace = 0.3)\n",
    "    plt.axvline(dataset[i].mean(), color = \"red\", linestyle=\"dashed\", label=\"Mean\")\n",
    "    plt.axvline(dataset[i].std(), color = \"black\", linestyle=\"dotted\", label=\"Std Dev.\")\n",
    "    plt.axvline(dataset[i].median(), color = \"green\", linestyle=\"dashdot\", label=\"Median\")\n",
    "    plt.legend(loc=\"upper right\")"
   ]
  },
  {
   "cell_type": "code",
   "execution_count": null,
   "metadata": {
    "colab": {
     "base_uri": "https://localhost:8080/"
    },
    "id": "9ll11tJJyt3_",
    "outputId": "a0773f35-006f-4619-e0e7-892c06d23a86"
   },
   "outputs": [],
   "source": [
    "# Distribution of Math Scores\n",
    "plt.figure(figsize=(17, 12))\n",
    "axs = sns.countplot(dataset['earnings'], palette='magma')\n",
    "plt.title('Distribution of Earnings', fontsize=12)\n",
    "plt.xlabel('Earnings', fontsize=12)\n",
    "plt.ylabel('Amount', fontsize=12)"
   ]
  },
  {
   "cell_type": "markdown",
   "metadata": {
    "id": "uE_TgFdIlGLp"
   },
   "source": [
    "Next I will create a correlation map\n",
    "\n",
    "Honestly I may change my dataset after looking at this, I would like to see more variation"
   ]
  },
  {
   "cell_type": "code",
   "execution_count": null,
   "metadata": {
    "colab": {
     "base_uri": "https://localhost:8080/"
    },
    "id": "oxtjeRPVCxlF",
    "outputId": "67ee908a-b64a-49d6-e235-86329e369cab"
   },
   "outputs": [],
   "source": [
    "# Correlation\n",
    "plt.figure(figsize=(15, 13))\n",
    "sns.heatmap(data=dataset.corr(), annot=True, cmap=\"hot\", linewidths=0.1, fmt=\".2f\", linecolor=\"black\")\n",
    "plt.title(\"Correlation Map\", fontsize=20)\n",
    "plt.tight_layout()\n",
    "plt.show()\n",
    "\n",
    "# Honestly I may change my dataset after looking at this, I would like to see more variation"
   ]
  },
  {
   "cell_type": "code",
   "execution_count": null,
   "metadata": {
    "colab": {
     "base_uri": "https://localhost:8080/"
    },
    "id": "cbbdJyfLiy2r",
    "outputId": "46392488-2064-462b-eb22-607d2e38189b"
   },
   "outputs": [],
   "source": [
    "from sklearn import preprocessing\n",
    "# Normalizing data between (0-1)\n",
    "x = dataset.values #returns a numpy array\n",
    "min_max_scaler = preprocessing.MinMaxScaler()\n",
    "x_scaled = min_max_scaler.fit_transform(x)\n",
    "\n",
    "# Insert column names back into data\n",
    "normalized_df = pd.DataFrame(x_scaled, columns=dataset.columns)\n",
    "\n",
    "\n",
    "# Output the first 10 rows to check data is normalized\n",
    "normalized_df.head(10)\n"
   ]
  },
  {
   "cell_type": "code",
   "execution_count": null,
   "metadata": {
    "colab": {
     "base_uri": "https://localhost:8080/"
    },
    "id": "bgEZ4f90ko5Z",
    "outputId": "fc4e63c6-d1b4-4783-e76c-646136ef54aa"
   },
   "outputs": [],
   "source": [
    "normalized_df.hist()\n",
    "plt.show()"
   ]
  },
  {
   "cell_type": "markdown",
   "metadata": {
    "id": "W73yav_LxFNj"
   },
   "source": [
    "#Illistrating the Nueral Networks\n"
   ]
  },
  {
   "cell_type": "code",
   "execution_count": null,
   "metadata": {
    "id": "LP5j_UdKAbGT"
   },
   "outputs": [],
   "source": [
    "def draw_neural_net(ax, left, right, bottom, top, layer_sizes):\n",
    "    #source: https://gist.github.com/craffel/2d727968c3aaebd10359\n",
    "    n_layers = len(layer_sizes)\n",
    "    v_spacing = (top - bottom)/float(max(layer_sizes))\n",
    "    h_spacing = (right - left)/float(len(layer_sizes) - 1)\n",
    "    # Nodes\n",
    "    for n, layer_size in enumerate(layer_sizes):\n",
    "        layer_top = v_spacing*(layer_size - 1)/2. + (top + bottom)/2.\n",
    "        for m in range(layer_size):\n",
    "            circle = plt.Circle((n*h_spacing + left, layer_top - m*v_spacing), v_spacing/4.,\n",
    "                                color='w', ec='k', zorder=4)\n",
    "            ax.add_artist(circle)\n",
    "    # Edges\n",
    "    for n, (layer_size_a, layer_size_b) in enumerate(zip(layer_sizes[:-1], layer_sizes[1:])):\n",
    "        layer_top_a = v_spacing*(layer_size_a - 1)/2. + (top + bottom)/2.\n",
    "        layer_top_b = v_spacing*(layer_size_b - 1)/2. + (top + bottom)/2.\n",
    "        for m in range(layer_size_a):\n",
    "            for o in range(layer_size_b):\n",
    "                line = plt.Line2D([n*h_spacing + left, (n + 1)*h_spacing + left],\n",
    "                                  [layer_top_a - m*v_spacing, layer_top_b - o*v_spacing], c='k')\n",
    "                ax.add_artist(line)"
   ]
  },
  {
   "cell_type": "code",
   "execution_count": null,
   "metadata": {
    "colab": {
     "base_uri": "https://localhost:8080/",
     "height": 591
    },
    "id": "zSayBlsGAcrl",
    "outputId": "1a39aba5-cab7-4314-a32b-167b275c0a60"
   },
   "outputs": [],
   "source": [
    "fig = plt.figure(figsize=(10, 10))\n",
    "ax = fig.gca()\n",
    "ax.axis('off')\n",
    "ax.set_title(\"Base Model\")\n",
    "draw_neural_net(ax, .1, .9, .1, .9, [13, 1])"
   ]
  },
  {
   "cell_type": "code",
   "execution_count": null,
   "metadata": {
    "colab": {
     "base_uri": "https://localhost:8080/",
     "height": 591
    },
    "id": "mTwoK_jsBgTc",
    "outputId": "18fd7b0b-7929-41bc-9035-0291cd84a4b4"
   },
   "outputs": [],
   "source": [
    "fig = plt.figure(figsize=(10, 10))\n",
    "ax = fig.gca()\n",
    "ax.axis('off')\n",
    "ax.set_title(\"Middle, Linear on lastlayer, Linear on all layers, Sigmoid on all layers\")\n",
    "draw_neural_net(ax, .1, .9, .1, .9, [13,6, 1])"
   ]
  },
  {
   "cell_type": "code",
   "execution_count": null,
   "metadata": {
    "colab": {
     "base_uri": "https://localhost:8080/",
     "height": 591
    },
    "id": "y9yequHjD7-9",
    "outputId": "478c8dcc-75da-409d-ce16-8d8ab8b5fb22"
   },
   "outputs": [],
   "source": [
    "fig = plt.figure(figsize=(10, 10))\n",
    "ax = fig.gca()\n",
    "ax.axis('off')\n",
    "ax.set_title(\"Multiple layers (4 hidden)\")\n",
    "draw_neural_net(ax, .1, .9, .1, .9, [13,10,8,6,4, 1])"
   ]
  },
  {
   "cell_type": "code",
   "execution_count": null,
   "metadata": {
    "colab": {
     "base_uri": "https://localhost:8080/",
     "height": 591
    },
    "id": "ZUh3JxiBEMo2",
    "outputId": "d0f38488-d2fb-479b-8a70-65909ed8a4e7"
   },
   "outputs": [],
   "source": [
    "fig = plt.figure(figsize=(10, 10))\n",
    "ax = fig.gca()\n",
    "ax.axis('off')\n",
    "ax.set_title(\"OverFitted Model\")\n",
    "draw_neural_net(ax, .1, .9, .1, .9, [130,60, 1])"
   ]
  },
  {
   "cell_type": "code",
   "execution_count": null,
   "metadata": {
    "colab": {
     "base_uri": "https://localhost:8080/",
     "height": 591
    },
    "id": "ZQSOrhooOUAv",
    "outputId": "358ba258-5eec-4198-916c-1eea091b996f"
   },
   "outputs": [],
   "source": [
    "fig = plt.figure(figsize=(10, 10))\n",
    "ax = fig.gca()\n",
    "ax.axis('off')\n",
    "ax.set_title(\"Model with 2 hidden layers\")\n",
    "draw_neural_net(ax, .1, .9, .1, .9, [13,6,4,1])"
   ]
  },
  {
   "cell_type": "markdown",
   "metadata": {
    "id": "FUXyB2zQEhyf"
   },
   "source": [
    "# PHASE II"
   ]
  },
  {
   "cell_type": "markdown",
   "metadata": {
    "id": "06DcJPDi1Mel"
   },
   "source": [
    "Splitting my data into training and validation sets"
   ]
  },
  {
   "cell_type": "code",
   "execution_count": null,
   "metadata": {
    "id": "42vLXsK2xVSP"
   },
   "outputs": [],
   "source": [
    "# Shuffling the dataset\n",
    "dataset = dataset.sample(frac=1).reset_index(drop=True)\n",
    "\n",
    "# Convert Pandas DataSet to Numpy Array\n",
    "dataset_np = dataset.values\n",
    "X = dataset.drop('earnings', axis='columns').values\n",
    "Y = dataset['earnings'].values"
   ]
  },
  {
   "cell_type": "code",
   "execution_count": null,
   "metadata": {
    "colab": {
     "base_uri": "https://localhost:8080/"
    },
    "id": "Ov7Ljs4M1_ZN",
    "outputId": "dfedfa3e-4db2-465d-cc4f-ea326fa57ddf"
   },
   "outputs": [],
   "source": [
    "# Index for 30%\n",
    "index_30percent = int(0.3 * len(dataset_np[:, 0]))  \n",
    "print(index_30percent)\n",
    "\n",
    "# Split into validation (30%) and training (70%)\n",
    "XVALID = X[:index_30percent, :]\n",
    "YVALID = Y[:index_30percent]\n",
    "XTRAIN = X[index_30percent:, :]\n",
    "YTRAIN = Y[index_30percent:]"
   ]
  },
  {
   "cell_type": "code",
   "execution_count": null,
   "metadata": {
    "id": "vY5nXWqF3aRG"
   },
   "outputs": [],
   "source": [
    "# Mean normalization\n",
    "Xmin = XTRAIN.min(axis = 0) \n",
    "Xmax = XTRAIN.max(axis = 0) \n",
    "mean = XTRAIN.mean(axis = 0)\n",
    "XTRAIN = (XTRAIN - mean) / (Xmax - Xmin)\n",
    "XVALID = (XVALID - mean) / (Xmax - Xmin)\n",
    "\n",
    "# Rescaling\n",
    "Ymax = YTRAIN.max()\n",
    "YTRAIN = YTRAIN / Ymax\n",
    "YVALID = YVALID / Ymax"
   ]
  },
  {
   "cell_type": "code",
   "execution_count": null,
   "metadata": {
    "id": "B3RjjWLb_wFH"
   },
   "outputs": [],
   "source": [
    "train_norm = pd.DataFrame(data=XTRAIN)\n",
    "train_norm.columns = ['age', 'workclass', 'fnlwgt', 'education', 'educationNum', 'maritalStatus', 'relationship', 'race', 'sex', 'capitalGain', 'capitalLoss', 'hoursPerWeek', 'country']\n",
    "train_norm.hist(figsize=(18,16))"
   ]
  },
  {
   "cell_type": "markdown",
   "metadata": {
    "id": "kAmlcW0sGHJu"
   },
   "source": [
    "Next we will set up the models"
   ]
  },
  {
   "cell_type": "code",
   "execution_count": null,
   "metadata": {
    "id": "AZkb1aM_3ve3"
   },
   "outputs": [],
   "source": [
    "# Setting up the models\n",
    "\n",
    "# Base model 1 input, 1 output\n",
    "model_base = Sequential([ \n",
    "                    Dense(units=12, input_dim = len(XTRAIN[0, :]), activation='relu'),\n",
    "                    Dense(units=1, activation='sigmoid')\n",
    "])\n",
    "\n",
    "# adding a middle layer\n",
    "model_middle = Sequential([\n",
    "                    Dense(units=12, input_dim = len(XTRAIN[0, :]), activation='relu'),\n",
    "                    Dense(units=6, activation='relu'),\n",
    "                    Dense(units=1, activation='sigmoid')\n",
    "])\n",
    "\n",
    "# adding another hidden layer\n",
    "model_4_layers = Sequential([\n",
    "                    Dense(units=12, input_dim = len(XTRAIN[0, :]), activation='relu'),\n",
    "                    Dense(units=6, activation='relu'),\n",
    "                    Dense(units=4, activation='relu'),\n",
    "                    Dense(units=1, activation='sigmoid')\n",
    "])\n",
    "\n",
    "# adding multiple hidden layers\n",
    "model_mult_layers = Sequential([\n",
    "                    Dense(units=12, input_dim = len(XTRAIN[0, :]), activation='relu'),\n",
    "                    Dense(units=10, activation='relu'),\n",
    "                    Dense(units=8, activation='relu'),\n",
    "                    Dense(units=6, activation='relu'),\n",
    "                    Dense(units=4, activation='relu'),\n",
    "                    Dense(units=1, activation='sigmoid')\n",
    "])\n",
    "\n",
    "# linear activation on last layer\n",
    "model_linear_last = Sequential([\n",
    "                    Dense(units=12, input_dim = len(XTRAIN[0, :]), activation='relu'),\n",
    "                    Dense(units=6, activation='relu'),\n",
    "                    Dense(units=1, activation='linear')\n",
    "])\n",
    "\n",
    "# linear activation on all layers\n",
    "model_linear_all = Sequential([\n",
    "                    Dense(units=12, input_dim = len(XTRAIN[0, :]), activation='linear'),\n",
    "                    Dense(units=6, activation='linear'),\n",
    "                    Dense(units=1, activation='linear')\n",
    "])\n",
    "\n",
    "# sigmoid activation on all layers\n",
    "model_sigmoid_all = Sequential([\n",
    "                    Dense(units=12, input_dim = len(XTRAIN[0, :]), activation='sigmoid'),\n",
    "                    Dense(units=6, activation='sigmoid'),\n",
    "                    Dense(units=1, activation='sigmoid')\n",
    "])\n",
    "\n",
    "# Overfitted model\n",
    "model_overfitted = Sequential([\n",
    "                    Dense(units=120, input_dim = len(XTRAIN[0, :]), activation='linear'),\n",
    "                    Dense(units=60, activation='linear'),\n",
    "                    Dense(units=1, activation='linear')\n",
    "])\n",
    "\n",
    "\n"
   ]
  },
  {
   "cell_type": "code",
   "execution_count": null,
   "metadata": {
    "id": "iAofNPqb49oS"
   },
   "outputs": [],
   "source": [
    "model_base.summary()"
   ]
  },
  {
   "cell_type": "markdown",
   "metadata": {
    "id": "dhT_rRJRJ6V6"
   },
   "source": [
    "Now we must compile each model to prepare it for the .fit() function"
   ]
  },
  {
   "cell_type": "code",
   "execution_count": null,
   "metadata": {
    "id": "5VkLAlCO34iu"
   },
   "outputs": [],
   "source": [
    "model_base.compile(loss='binary_crossentropy', optimizer = 'adam', metrics=['accuracy'])\n",
    "model_middle.compile(loss='binary_crossentropy', optimizer = 'adam', metrics=['accuracy'])\n",
    "model_4_layers.compile(loss='binary_crossentropy', optimizer = 'adam', metrics=['accuracy'])\n",
    "model_mult_layers.compile(loss='binary_crossentropy', optimizer = 'adam', metrics=['accuracy'])\n",
    "model_linear_last.compile(loss='binary_crossentropy', optimizer = 'adam', metrics=['accuracy'])\n",
    "model_linear_all.compile(loss='binary_crossentropy', optimizer = 'adam', metrics=['accuracy'])\n",
    "model_sigmoid_all.compile(loss='binary_crossentropy', optimizer = 'adam', metrics=['accuracy'])\n",
    "model_overfitted.compile(loss='binary_crossentropy', optimizer = 'adam', metrics=['accuracy'])"
   ]
  },
  {
   "cell_type": "code",
   "execution_count": null,
   "metadata": {
    "id": "bZGlmam13us9"
   },
   "outputs": [],
   "source": [
    "# Learn the model from training set\n",
    "history1 = model_base.fit(XTRAIN, YTRAIN, epochs=100, batch_size=64, validation_data = (XVALID, YVALID),verbose=1)"
   ]
  },
  {
   "cell_type": "code",
   "execution_count": null,
   "metadata": {
    "id": "0ZpdiqN9-EAS"
   },
   "outputs": [],
   "source": [
    "history2 = model_middle.fit(XTRAIN, YTRAIN, epochs=100, batch_size=64, validation_data = (XVALID, YVALID),verbose=1)"
   ]
  },
  {
   "cell_type": "code",
   "execution_count": null,
   "metadata": {
    "id": "-Lp4Z5lUK_H4"
   },
   "outputs": [],
   "source": [
    "history3 = model_4_layers.fit(XTRAIN, YTRAIN, epochs=100, batch_size=64, validation_data = (XVALID, YVALID),verbose=1)"
   ]
  },
  {
   "cell_type": "code",
   "execution_count": null,
   "metadata": {
    "id": "YPbwlTpcPZaL"
   },
   "outputs": [],
   "source": [
    "history4 = model_mult_layers.fit(XTRAIN, YTRAIN, epochs=100, batch_size=64, validation_data = (XVALID, YVALID),verbose=1)"
   ]
  },
  {
   "cell_type": "code",
   "execution_count": null,
   "metadata": {
    "id": "Ey3KLp07LDcz"
   },
   "outputs": [],
   "source": [
    "history5 = model_linear_last.fit(XTRAIN, YTRAIN, epochs=100, batch_size=64, validation_data = (XVALID, YVALID),verbose=1)"
   ]
  },
  {
   "cell_type": "code",
   "execution_count": null,
   "metadata": {
    "id": "o-oaU6VnLKCM"
   },
   "outputs": [],
   "source": [
    "history6 = model_linear_all.fit(XTRAIN, YTRAIN, epochs=100, batch_size=64, validation_data = (XVALID, YVALID),verbose=1)"
   ]
  },
  {
   "cell_type": "code",
   "execution_count": null,
   "metadata": {
    "id": "xuNh15vjLPnZ"
   },
   "outputs": [],
   "source": [
    "history7 = model_sigmoid_all.fit(XTRAIN, YTRAIN, epochs=100, batch_size=64, validation_data = (XVALID, YVALID),verbose=1)"
   ]
  },
  {
   "cell_type": "code",
   "execution_count": null,
   "metadata": {
    "id": "C3h2nTzILTL0"
   },
   "outputs": [],
   "source": [
    "history8 = model_overfitted.fit(XTRAIN, YTRAIN, epochs=100, batch_size=64, validation_data = (XVALID, YVALID),verbose=1)"
   ]
  },
  {
   "cell_type": "code",
   "execution_count": null,
   "metadata": {
    "id": "XFcXTyCZYayh"
   },
   "outputs": [],
   "source": [
    "def get_accuracy(model):\n",
    "    scores = model.evaluate(XTRAIN, YTRAIN)\n",
    "    percent = (scores[1] * 100.0)\n",
    "    formatted_percent = \"{:.2f}\".format(percent)\n",
    "    print(\"Training set Accuracy: \", formatted_percent , \"%\")"
   ]
  },
  {
   "cell_type": "code",
   "execution_count": null,
   "metadata": {
    "id": "0m6f6v-LOOPN"
   },
   "outputs": [],
   "source": [
    "get_accuracy(model_base)"
   ]
  },
  {
   "cell_type": "code",
   "execution_count": null,
   "metadata": {
    "id": "AWMKVwA-ObO2"
   },
   "outputs": [],
   "source": [
    "get_accuracy(model_middle)"
   ]
  },
  {
   "cell_type": "code",
   "execution_count": null,
   "metadata": {
    "id": "ZLN7EU8yPcny"
   },
   "outputs": [],
   "source": [
    "get_accuracy(model_mult_layers)"
   ]
  },
  {
   "cell_type": "code",
   "execution_count": null,
   "metadata": {
    "id": "jdn9rPPiObrG"
   },
   "outputs": [],
   "source": [
    "get_accuracy(model_4_layers)"
   ]
  },
  {
   "cell_type": "code",
   "execution_count": null,
   "metadata": {
    "id": "Fg8dJkG1OcCN"
   },
   "outputs": [],
   "source": [
    "get_accuracy(model_linear_last)"
   ]
  },
  {
   "cell_type": "code",
   "execution_count": null,
   "metadata": {
    "id": "CkcnZfNjOcOC"
   },
   "outputs": [],
   "source": [
    "get_accuracy(model_linear_all)"
   ]
  },
  {
   "cell_type": "code",
   "execution_count": null,
   "metadata": {
    "id": "w-uc1IDhOb26"
   },
   "outputs": [],
   "source": [
    "get_accuracy(model_sigmoid_all)"
   ]
  },
  {
   "cell_type": "code",
   "execution_count": null,
   "metadata": {
    "id": "rgGySwPPObgC"
   },
   "outputs": [],
   "source": [
    "get_accuracy(model_overfitted)"
   ]
  },
  {
   "cell_type": "code",
   "execution_count": null,
   "metadata": {
    "id": "Mhg5MMF3sQe5"
   },
   "outputs": [],
   "source": [
    "def learning_curve(m_history):\n",
    "    fig, (ax1, ax2) = plt.subplots(1, 2, figsize=(18, 6))\n",
    "    ax1.plot(m_history.history['loss'])\n",
    "    ax1.plot(m_history.history['val_loss'])\n",
    "    ax1.set_title('Model Loss')\n",
    "    ax1.set_ylabel('Loss')\n",
    "    ax1.set_xlabel('Epoch')\n",
    "    ax1.legend(['Training loss data', 'Validation loss data'], loc='upper right')\n",
    "\n",
    "    ax2.plot(m_history.history['accuracy'])\n",
    "    ax2.plot(m_history.history['val_accuracy'])\n",
    "    ax2.set_title('Model Accuracy')\n",
    "    ax2.set_ylabel('Accuracy')\n",
    "    ax2.set_xlabel('Epoch')\n",
    "    ax2.legend(['Training accuracy data', 'Validation accuracy data'], loc='lower right')\n",
    "\n",
    "    fig.show()"
   ]
  },
  {
   "cell_type": "code",
   "execution_count": null,
   "metadata": {
    "id": "35c2yMtSsjfJ"
   },
   "outputs": [],
   "source": [
    "learning_curve(history1)"
   ]
  },
  {
   "cell_type": "code",
   "execution_count": null,
   "metadata": {
    "id": "UNXQk-N7L1Ar"
   },
   "outputs": [],
   "source": [
    "learning_curve(history2)"
   ]
  },
  {
   "cell_type": "code",
   "execution_count": null,
   "metadata": {
    "id": "Trl739sDL1aQ"
   },
   "outputs": [],
   "source": [
    "learning_curve(history3)"
   ]
  },
  {
   "cell_type": "code",
   "execution_count": null,
   "metadata": {
    "id": "aPQvV1rvL0f7"
   },
   "outputs": [],
   "source": [
    "learning_curve(history4)"
   ]
  },
  {
   "cell_type": "code",
   "execution_count": null,
   "metadata": {
    "id": "S0U9tOmeLzmU"
   },
   "outputs": [],
   "source": [
    "learning_curve(history5)"
   ]
  },
  {
   "cell_type": "code",
   "execution_count": null,
   "metadata": {
    "id": "FhiGmnjEL5Nh"
   },
   "outputs": [],
   "source": [
    "learning_curve(history6)"
   ]
  },
  {
   "cell_type": "code",
   "execution_count": null,
   "metadata": {
    "id": "9SjMmYtDL6h2"
   },
   "outputs": [],
   "source": [
    "learning_curve(history7)"
   ]
  },
  {
   "cell_type": "code",
   "execution_count": null,
   "metadata": {
    "id": "NhQQsa2whqDm"
   },
   "outputs": [],
   "source": [
    "learning_curve(history8)"
   ]
  },
  {
   "cell_type": "code",
   "execution_count": null,
   "metadata": {
    "id": "VXmelKMbrqps"
   },
   "outputs": [],
   "source": [
    "plot_model(model_base, show_shapes=True, show_layer_names=True)"
   ]
  },
  {
   "cell_type": "code",
   "execution_count": null,
   "metadata": {
    "id": "Jrx1zZCYyy4v"
   },
   "outputs": [],
   "source": [
    "fig = plt.figure(figsize=(12, 12))\n",
    "ax = fig.gca()\n",
    "ax.axis('off')\n",
    "draw_neural_net(ax, .1, .9, .1, .9, [4, 7, 2])\n"
   ]
  }
 ],
 "metadata": {
  "colab": {
   "collapsed_sections": [
    "yQjEo09Vw6kq",
    "W73yav_LxFNj",
    "FUXyB2zQEhyf"
   ],
   "name": "Final_Phase.ipynb",
   "provenance": []
  },
  "kernelspec": {
   "display_name": "Python 3",
   "language": "python",
   "name": "python3"
  },
  "language_info": {
   "codemirror_mode": {
    "name": "ipython",
    "version": 3
   },
   "file_extension": ".py",
   "mimetype": "text/x-python",
   "name": "python",
   "nbconvert_exporter": "python",
   "pygments_lexer": "ipython3",
   "version": "3.8.8"
  }
 },
 "nbformat": 4,
 "nbformat_minor": 1
}
