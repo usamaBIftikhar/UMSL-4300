{
 "cells": [
  {
   "cell_type": "markdown",
   "metadata": {
    "id": "YKOgg1cfYRa2"
   },
   "source": [
    "#Activity 7"
   ]
  },
  {
   "cell_type": "code",
   "execution_count": 1,
   "metadata": {
    "colab": {
     "base_uri": "https://localhost:8080/",
     "height": 204
    },
    "executionInfo": {
     "elapsed": 2859,
     "status": "ok",
     "timestamp": 1603219648373,
     "user": {
      "displayName": "Jesse McCarville-Schueths",
      "photoUrl": "https://lh3.googleusercontent.com/a-/AOh14GiX6qEkjaRBW0uWEqGcQ_qi2MlFxEEdL1rWrNfmKQ=s64",
      "userId": "02818289306362422887"
     },
     "user_tz": 300
    },
    "id": "7iKzopkY75gJ",
    "outputId": "7867946e-dbb4-4138-e831-da43f5e64ef4"
   },
   "outputs": [
    {
     "data": {
      "text/html": [
       "<div>\n",
       "<style scoped>\n",
       "    .dataframe tbody tr th:only-of-type {\n",
       "        vertical-align: middle;\n",
       "    }\n",
       "\n",
       "    .dataframe tbody tr th {\n",
       "        vertical-align: top;\n",
       "    }\n",
       "\n",
       "    .dataframe thead th {\n",
       "        text-align: right;\n",
       "    }\n",
       "</style>\n",
       "<table border=\"1\" class=\"dataframe\">\n",
       "  <thead>\n",
       "    <tr style=\"text-align: right;\">\n",
       "      <th></th>\n",
       "      <th>age</th>\n",
       "      <th>workclass</th>\n",
       "      <th>fnlwgt</th>\n",
       "      <th>education</th>\n",
       "      <th>educationNum</th>\n",
       "      <th>maritalStatus</th>\n",
       "      <th>relationship</th>\n",
       "      <th>race</th>\n",
       "      <th>sex</th>\n",
       "      <th>capitalGain</th>\n",
       "      <th>capitalLoss</th>\n",
       "      <th>hoursPerWeek</th>\n",
       "      <th>country</th>\n",
       "      <th>earnings</th>\n",
       "    </tr>\n",
       "  </thead>\n",
       "  <tbody>\n",
       "    <tr>\n",
       "      <th>0</th>\n",
       "      <td>39</td>\n",
       "      <td>3</td>\n",
       "      <td>77516</td>\n",
       "      <td>13</td>\n",
       "      <td>13</td>\n",
       "      <td>0</td>\n",
       "      <td>0</td>\n",
       "      <td>1</td>\n",
       "      <td>1</td>\n",
       "      <td>2174</td>\n",
       "      <td>0</td>\n",
       "      <td>40</td>\n",
       "      <td>1</td>\n",
       "      <td>0</td>\n",
       "    </tr>\n",
       "    <tr>\n",
       "      <th>1</th>\n",
       "      <td>50</td>\n",
       "      <td>2</td>\n",
       "      <td>83311</td>\n",
       "      <td>13</td>\n",
       "      <td>13</td>\n",
       "      <td>1</td>\n",
       "      <td>1</td>\n",
       "      <td>1</td>\n",
       "      <td>1</td>\n",
       "      <td>0</td>\n",
       "      <td>0</td>\n",
       "      <td>13</td>\n",
       "      <td>1</td>\n",
       "      <td>0</td>\n",
       "    </tr>\n",
       "    <tr>\n",
       "      <th>2</th>\n",
       "      <td>38</td>\n",
       "      <td>1</td>\n",
       "      <td>215646</td>\n",
       "      <td>10</td>\n",
       "      <td>9</td>\n",
       "      <td>2</td>\n",
       "      <td>0</td>\n",
       "      <td>1</td>\n",
       "      <td>1</td>\n",
       "      <td>0</td>\n",
       "      <td>0</td>\n",
       "      <td>40</td>\n",
       "      <td>1</td>\n",
       "      <td>0</td>\n",
       "    </tr>\n",
       "    <tr>\n",
       "      <th>3</th>\n",
       "      <td>53</td>\n",
       "      <td>1</td>\n",
       "      <td>234721</td>\n",
       "      <td>6</td>\n",
       "      <td>7</td>\n",
       "      <td>1</td>\n",
       "      <td>1</td>\n",
       "      <td>2</td>\n",
       "      <td>1</td>\n",
       "      <td>0</td>\n",
       "      <td>0</td>\n",
       "      <td>40</td>\n",
       "      <td>1</td>\n",
       "      <td>0</td>\n",
       "    </tr>\n",
       "    <tr>\n",
       "      <th>4</th>\n",
       "      <td>28</td>\n",
       "      <td>1</td>\n",
       "      <td>338409</td>\n",
       "      <td>13</td>\n",
       "      <td>13</td>\n",
       "      <td>1</td>\n",
       "      <td>2</td>\n",
       "      <td>2</td>\n",
       "      <td>0</td>\n",
       "      <td>0</td>\n",
       "      <td>0</td>\n",
       "      <td>40</td>\n",
       "      <td>14</td>\n",
       "      <td>0</td>\n",
       "    </tr>\n",
       "  </tbody>\n",
       "</table>\n",
       "</div>"
      ],
      "text/plain": [
       "   age  workclass  fnlwgt  education  educationNum  maritalStatus  \\\n",
       "0   39          3   77516         13            13              0   \n",
       "1   50          2   83311         13            13              1   \n",
       "2   38          1  215646         10             9              2   \n",
       "3   53          1  234721          6             7              1   \n",
       "4   28          1  338409         13            13              1   \n",
       "\n",
       "   relationship  race  sex  capitalGain  capitalLoss  hoursPerWeek  country  \\\n",
       "0             0     1    1         2174            0            40        1   \n",
       "1             1     1    1            0            0            13        1   \n",
       "2             0     1    1            0            0            40        1   \n",
       "3             1     2    1            0            0            40        1   \n",
       "4             2     2    0            0            0            40       14   \n",
       "\n",
       "   earnings  \n",
       "0         0  \n",
       "1         0  \n",
       "2         0  \n",
       "3         0  \n",
       "4         0  "
      ]
     },
     "execution_count": 1,
     "metadata": {},
     "output_type": "execute_result"
    }
   ],
   "source": [
    "import numpy as np\n",
    "import pandas as pd\n",
    "from tensorflow.keras.models import Sequential\n",
    "from tensorflow.keras.layers import Dense\n",
    "import matplotlib.pyplot as plt\n",
    "import random\n",
    "\n",
    "\n",
    "url = 'https://raw.githubusercontent.com/pango3001/AI/main/project/adult1.csv'\n",
    "\n",
    "#numpy darray\n",
    "data = np.genfromtxt(url, delimiter=\",\", skip_header = True) \n",
    "\n",
    "#panda dataframe\n",
    "dataset = pd.read_csv(url, delimiter=',')\n",
    "dataset.head()"
   ]
  },
  {
   "cell_type": "code",
   "execution_count": 2,
   "metadata": {
    "executionInfo": {
     "elapsed": 2851,
     "status": "ok",
     "timestamp": 1603219648374,
     "user": {
      "displayName": "Jesse McCarville-Schueths",
      "photoUrl": "https://lh3.googleusercontent.com/a-/AOh14GiX6qEkjaRBW0uWEqGcQ_qi2MlFxEEdL1rWrNfmKQ=s64",
      "userId": "02818289306362422887"
     },
     "user_tz": 300
    },
    "id": "ZvQtIidaTYFa"
   },
   "outputs": [],
   "source": [
    "# Shuffle the dataset\n",
    "# NOTE: shuffle dataframe in-place and reset the index\n",
    "dataset = dataset.sample(frac=1).reset_index(drop=True)\n",
    "\n",
    "# Convert Pandas Dataframe to Numpy dArray\n",
    "dataset_np = dataset.values\n",
    "X = dataset.drop('age', axis='columns').values\n",
    "Y = dataset['age'].values"
   ]
  },
  {
   "cell_type": "markdown",
   "metadata": {
    "id": "0wKa09NE4IQ2"
   },
   "source": [
    "###Sizes of the Splits"
   ]
  },
  {
   "cell_type": "code",
   "execution_count": 3,
   "metadata": {
    "colab": {
     "base_uri": "https://localhost:8080/",
     "height": 68
    },
    "executionInfo": {
     "elapsed": 2843,
     "status": "ok",
     "timestamp": 1603219648374,
     "user": {
      "displayName": "Jesse McCarville-Schueths",
      "photoUrl": "https://lh3.googleusercontent.com/a-/AOh14GiX6qEkjaRBW0uWEqGcQ_qi2MlFxEEdL1rWrNfmKQ=s64",
      "userId": "02818289306362422887"
     },
     "user_tz": 300
    },
    "id": "PpVtmjK74OKM",
    "outputId": "b172f515-d402-486b-9a53-69a1e47ae88a"
   },
   "outputs": [
    {
     "name": "stdout",
     "output_type": "stream",
     "text": [
      "9768\n",
      "651\n",
      "31909\n"
     ]
    }
   ],
   "source": [
    "# Index for 30% --- Normal\n",
    "index_30percent = int(0.3 * len(dataset_np[:, 0]))\n",
    "print(index_30percent)\n",
    "\n",
    "# Index for 2%\n",
    "index_2percent = int(0.02 * len(dataset_np[:, 0]))\n",
    "print(index_2percent)\n",
    "\n",
    "# Index for 98%\n",
    "index_98percent = int(0.98 * len(dataset_np[:, 0]))\n",
    "print(index_98percent)"
   ]
  },
  {
   "cell_type": "markdown",
   "metadata": {
    "id": "E_fNwLFMZV-7"
   },
   "source": [
    "## Datasets"
   ]
  },
  {
   "cell_type": "markdown",
   "metadata": {
    "id": "KL6ZrHztk8SA"
   },
   "source": [
    "### Normal Validation Dataset"
   ]
  },
  {
   "cell_type": "code",
   "execution_count": 4,
   "metadata": {
    "colab": {
     "base_uri": "https://localhost:8080/",
     "height": 85
    },
    "executionInfo": {
     "elapsed": 2836,
     "status": "ok",
     "timestamp": 1603219648375,
     "user": {
      "displayName": "Jesse McCarville-Schueths",
      "photoUrl": "https://lh3.googleusercontent.com/a-/AOh14GiX6qEkjaRBW0uWEqGcQ_qi2MlFxEEdL1rWrNfmKQ=s64",
      "userId": "02818289306362422887"
     },
     "user_tz": 300
    },
    "id": "yBfbK4DtTxBw",
    "outputId": "507cadc5-5c34-44d0-e8f9-b2c7734d0a8c"
   },
   "outputs": [
    {
     "name": "stdout",
     "output_type": "stream",
     "text": [
      "(22793, 13)\n",
      "(22793,)\n",
      "(9768, 13)\n",
      "(9768,)\n"
     ]
    }
   ],
   "source": [
    "# Split into training and validation\n",
    "XVALID = X[:index_30percent, :]\n",
    "YVALID = Y[:index_30percent]\n",
    "\n",
    "XTRAIN = X[index_30percent:, :]\n",
    "YTRAIN = Y[index_30percent:]\n",
    "\n",
    "print(XTRAIN.shape)\n",
    "print(YTRAIN.shape)\n",
    "\n",
    "print(XVALID.shape)\n",
    "print(YVALID.shape)\n",
    "\n",
    "\n",
    "## Mean normalization\n",
    "min = XTRAIN.min(axis = 0) \n",
    "max = XTRAIN.max(axis = 0) \n",
    "mean = XTRAIN.mean(axis = 0)\n",
    "XTRAIN = (XTRAIN - mean) / (max - min)\n",
    "XVALID = (XVALID - mean) / (max - min)\n",
    "\n",
    "## Rescaling\n",
    "Ymax = YTRAIN.max()\n",
    "YTRAIN = YTRAIN / Ymax\n",
    "YVALID = YVALID / Ymax"
   ]
  },
  {
   "cell_type": "markdown",
   "metadata": {
    "id": "GsrOfzesllKT"
   },
   "source": [
    "### Too Small Validation Dataset "
   ]
  },
  {
   "cell_type": "code",
   "execution_count": 5,
   "metadata": {
    "executionInfo": {
     "elapsed": 2826,
     "status": "ok",
     "timestamp": 1603219648376,
     "user": {
      "displayName": "Jesse McCarville-Schueths",
      "photoUrl": "https://lh3.googleusercontent.com/a-/AOh14GiX6qEkjaRBW0uWEqGcQ_qi2MlFxEEdL1rWrNfmKQ=s64",
      "userId": "02818289306362422887"
     },
     "user_tz": 300
    },
    "id": "U0Bt9ZFKmAkl"
   },
   "outputs": [],
   "source": [
    "# Split into training and validation\n",
    "XVALID_2 = X[:index_2percent, :]\n",
    "YVALID_2 = Y[:index_2percent]\n",
    "\n",
    "XTRAIN_2 = X[index_2percent:, :]\n",
    "YTRAIN_2 = Y[index_2percent:]\n",
    "\n",
    "## Mean normalization\n",
    "min = XTRAIN_2.min(axis = 0) \n",
    "max = XTRAIN_2.max(axis = 0) \n",
    "mean = XTRAIN_2.mean(axis = 0)\n",
    "XTRAIN_2 = (XTRAIN_2 - mean) / (max - min)\n",
    "XVALID_2 = (XVALID_2 - mean) / (max - min)\n",
    "\n",
    "## Rescaling\n",
    "Ymax = YTRAIN_2.max()\n",
    "YTRAIN_2 = YTRAIN_2 / Ymax\n",
    "YVALID_2 = YVALID_2 / Ymax"
   ]
  },
  {
   "cell_type": "markdown",
   "metadata": {
    "id": "NbK4Yjl3ltQE"
   },
   "source": [
    "### Too Small Training Dataset "
   ]
  },
  {
   "cell_type": "code",
   "execution_count": 6,
   "metadata": {
    "executionInfo": {
     "elapsed": 2817,
     "status": "ok",
     "timestamp": 1603219648377,
     "user": {
      "displayName": "Jesse McCarville-Schueths",
      "photoUrl": "https://lh3.googleusercontent.com/a-/AOh14GiX6qEkjaRBW0uWEqGcQ_qi2MlFxEEdL1rWrNfmKQ=s64",
      "userId": "02818289306362422887"
     },
     "user_tz": 300
    },
    "id": "mdIIPf6FmKX3"
   },
   "outputs": [],
   "source": [
    "# Split into training and validation\n",
    "XVALID_98 = X[:index_98percent, :]\n",
    "YVALID_98 = Y[:index_98percent]\n",
    "\n",
    "XTRAIN_98 = X[index_98percent:, :]\n",
    "YTRAIN_98 = Y[index_98percent:]\n",
    "\n",
    "## Mean normalization\n",
    "min = XTRAIN_98.min(axis = 0) \n",
    "max = XTRAIN_98.max(axis = 0) \n",
    "mean = XTRAIN_98.mean(axis = 0)\n",
    "XTRAIN_98 = (XTRAIN_98 - mean) / (max - min)\n",
    "XVALID_98 = (XVALID_98 - mean) / (max - min)\n",
    "\n",
    "## Rescaling\n",
    "Ymax = YTRAIN_98.max()\n",
    "YTRAIN_98 = YTRAIN_98 / Ymax\n",
    "YVALID_98 = YVALID_98 / Ymax"
   ]
  },
  {
   "cell_type": "markdown",
   "metadata": {
    "id": "NXajbHerwOoL"
   },
   "source": [
    "## Build a neural network"
   ]
  },
  {
   "cell_type": "code",
   "execution_count": 7,
   "metadata": {
    "executionInfo": {
     "elapsed": 232,
     "status": "ok",
     "timestamp": 1603221126841,
     "user": {
      "displayName": "Jesse McCarville-Schueths",
      "photoUrl": "https://lh3.googleusercontent.com/a-/AOh14GiX6qEkjaRBW0uWEqGcQ_qi2MlFxEEdL1rWrNfmKQ=s64",
      "userId": "02818289306362422887"
     },
     "user_tz": 300
    },
    "id": "8sdKbWfsev2j"
   },
   "outputs": [],
   "source": [
    "model = Sequential()\n",
    "model.add(Dense(13, input_dim=len(XTRAIN[0, :]), activation='relu'))\n",
    "model.add(Dense(7, activation='relu'))\n",
    "model.add(Dense(1, activation='sigmoid'))"
   ]
  },
  {
   "cell_type": "code",
   "execution_count": null,
   "metadata": {
    "colab": {
     "base_uri": "https://localhost:8080/",
     "height": 1000
    },
    "executionInfo": {
     "elapsed": 267569,
     "status": "ok",
     "timestamp": 1603221395042,
     "user": {
      "displayName": "Jesse McCarville-Schueths",
      "photoUrl": "https://lh3.googleusercontent.com/a-/AOh14GiX6qEkjaRBW0uWEqGcQ_qi2MlFxEEdL1rWrNfmKQ=s64",
      "userId": "02818289306362422887"
     },
     "user_tz": 300
    },
    "id": "uJjcUbeGe0In",
    "outputId": "a2520f5d-c3fd-49e0-a54e-0cf5fb49b927"
   },
   "outputs": [
    {
     "name": "stdout",
     "output_type": "stream",
     "text": [
      "Epoch 1/256\n",
      "357/357 [==============================] - 2s 3ms/step - loss: 0.0181 - mae: 0.1070 - val_loss: 0.0160 - val_mae: 0.0985\n",
      "Epoch 2/256\n",
      "357/357 [==============================] - 1s 3ms/step - loss: 0.0154 - mae: 0.0970 - val_loss: 0.0153 - val_mae: 0.0959\n",
      "Epoch 3/256\n",
      "357/357 [==============================] - 1s 3ms/step - loss: 0.0150 - mae: 0.0952 - val_loss: 0.0150 - val_mae: 0.0948\n",
      "Epoch 4/256\n",
      "357/357 [==============================] - 1s 2ms/step - loss: 0.0147 - mae: 0.0942 - val_loss: 0.0148 - val_mae: 0.0930\n",
      "Epoch 5/256\n",
      "357/357 [==============================] - 1s 2ms/step - loss: 0.0144 - mae: 0.0934 - val_loss: 0.0145 - val_mae: 0.0933\n",
      "Epoch 6/256\n",
      "357/357 [==============================] - 1s 3ms/step - loss: 0.0143 - mae: 0.0927 - val_loss: 0.0144 - val_mae: 0.0936\n",
      "Epoch 7/256\n",
      "357/357 [==============================] - 1s 2ms/step - loss: 0.0141 - mae: 0.0923 - val_loss: 0.0142 - val_mae: 0.0920\n",
      "Epoch 8/256\n",
      "357/357 [==============================] - 1s 2ms/step - loss: 0.0140 - mae: 0.0918 - val_loss: 0.0142 - val_mae: 0.0939\n",
      "Epoch 9/256\n",
      "357/357 [==============================] - 1s 2ms/step - loss: 0.0139 - mae: 0.0915 - val_loss: 0.0141 - val_mae: 0.0926\n",
      "Epoch 10/256\n",
      "357/357 [==============================] - 1s 2ms/step - loss: 0.0138 - mae: 0.0912 - val_loss: 0.0141 - val_mae: 0.0907\n",
      "Epoch 11/256\n",
      "357/357 [==============================] - 1s 2ms/step - loss: 0.0137 - mae: 0.0908 - val_loss: 0.0139 - val_mae: 0.0913\n",
      "Epoch 12/256\n",
      "357/357 [==============================] - 1s 2ms/step - loss: 0.0137 - mae: 0.0907 - val_loss: 0.0139 - val_mae: 0.0927\n",
      "Epoch 13/256\n",
      "357/357 [==============================] - 1s 2ms/step - loss: 0.0136 - mae: 0.0905 - val_loss: 0.0138 - val_mae: 0.0902\n",
      "Epoch 14/256\n",
      "357/357 [==============================] - 1s 2ms/step - loss: 0.0135 - mae: 0.0901 - val_loss: 0.0137 - val_mae: 0.0907\n",
      "Epoch 15/256\n",
      "357/357 [==============================] - 1s 3ms/step - loss: 0.0135 - mae: 0.0899 - val_loss: 0.0137 - val_mae: 0.0927\n",
      "Epoch 16/256\n",
      "357/357 [==============================] - 1s 2ms/step - loss: 0.0134 - mae: 0.0899 - val_loss: 0.0137 - val_mae: 0.0897\n",
      "Epoch 17/256\n",
      "357/357 [==============================] - 1s 2ms/step - loss: 0.0133 - mae: 0.0896 - val_loss: 0.0136 - val_mae: 0.0896\n",
      "Epoch 18/256\n",
      "357/357 [==============================] - 1s 2ms/step - loss: 0.0133 - mae: 0.0893 - val_loss: 0.0136 - val_mae: 0.0895\n",
      "Epoch 19/256\n",
      "357/357 [==============================] - 1s 2ms/step - loss: 0.0133 - mae: 0.0891 - val_loss: 0.0135 - val_mae: 0.0906\n",
      "Epoch 20/256\n",
      "357/357 [==============================] - 1s 2ms/step - loss: 0.0132 - mae: 0.0891 - val_loss: 0.0135 - val_mae: 0.0897\n",
      "Epoch 21/256\n",
      "357/357 [==============================] - 1s 3ms/step - loss: 0.0132 - mae: 0.0889 - val_loss: 0.0135 - val_mae: 0.0899\n",
      "Epoch 22/256\n",
      "357/357 [==============================] - 1s 2ms/step - loss: 0.0132 - mae: 0.0888 - val_loss: 0.0135 - val_mae: 0.0892\n",
      "Epoch 23/256\n",
      "357/357 [==============================] - 1s 2ms/step - loss: 0.0131 - mae: 0.0888 - val_loss: 0.0134 - val_mae: 0.0899\n",
      "Epoch 24/256\n",
      "357/357 [==============================] - 1s 2ms/step - loss: 0.0131 - mae: 0.0886 - val_loss: 0.0134 - val_mae: 0.0891\n",
      "Epoch 25/256\n",
      "357/357 [==============================] - 1s 3ms/step - loss: 0.0131 - mae: 0.0885 - val_loss: 0.0134 - val_mae: 0.0908\n",
      "Epoch 26/256\n",
      "357/357 [==============================] - 1s 3ms/step - loss: 0.0131 - mae: 0.0885 - val_loss: 0.0134 - val_mae: 0.0887\n",
      "Epoch 27/256\n",
      "357/357 [==============================] - 1s 3ms/step - loss: 0.0130 - mae: 0.0883 - val_loss: 0.0134 - val_mae: 0.0889\n",
      "Epoch 28/256\n",
      "357/357 [==============================] - 1s 3ms/step - loss: 0.0130 - mae: 0.0883 - val_loss: 0.0133 - val_mae: 0.0895\n",
      "Epoch 29/256\n",
      "357/357 [==============================] - 1s 3ms/step - loss: 0.0130 - mae: 0.0882 - val_loss: 0.0133 - val_mae: 0.0898\n",
      "Epoch 30/256\n",
      "357/357 [==============================] - 1s 3ms/step - loss: 0.0130 - mae: 0.0881 - val_loss: 0.0133 - val_mae: 0.0889\n",
      "Epoch 31/256\n",
      "357/357 [==============================] - 1s 3ms/step - loss: 0.0130 - mae: 0.0880 - val_loss: 0.0132 - val_mae: 0.0892\n",
      "Epoch 32/256\n",
      "357/357 [==============================] - 1s 3ms/step - loss: 0.0129 - mae: 0.0879 - val_loss: 0.0132 - val_mae: 0.0889\n",
      "Epoch 33/256\n",
      "357/357 [==============================] - 1s 2ms/step - loss: 0.0129 - mae: 0.0879 - val_loss: 0.0132 - val_mae: 0.0888\n",
      "Epoch 34/256\n",
      "357/357 [==============================] - 1s 3ms/step - loss: 0.0129 - mae: 0.0878 - val_loss: 0.0133 - val_mae: 0.0879\n",
      "Epoch 35/256\n",
      "357/357 [==============================] - 1s 2ms/step - loss: 0.0129 - mae: 0.0877 - val_loss: 0.0132 - val_mae: 0.0890\n",
      "Epoch 36/256\n",
      "357/357 [==============================] - 1s 3ms/step - loss: 0.0129 - mae: 0.0878 - val_loss: 0.0132 - val_mae: 0.0889\n",
      "Epoch 37/256\n",
      "357/357 [==============================] - 1s 2ms/step - loss: 0.0129 - mae: 0.0876 - val_loss: 0.0132 - val_mae: 0.0885\n",
      "Epoch 38/256\n",
      "357/357 [==============================] - 1s 3ms/step - loss: 0.0129 - mae: 0.0877 - val_loss: 0.0131 - val_mae: 0.0889\n",
      "Epoch 39/256\n",
      "357/357 [==============================] - 1s 2ms/step - loss: 0.0128 - mae: 0.0875 - val_loss: 0.0131 - val_mae: 0.0888\n",
      "Epoch 40/256\n",
      "357/357 [==============================] - 1s 3ms/step - loss: 0.0128 - mae: 0.0875 - val_loss: 0.0131 - val_mae: 0.0885\n",
      "Epoch 41/256\n",
      "357/357 [==============================] - 1s 2ms/step - loss: 0.0128 - mae: 0.0875 - val_loss: 0.0131 - val_mae: 0.0876\n",
      "Epoch 42/256\n",
      "357/357 [==============================] - 1s 3ms/step - loss: 0.0128 - mae: 0.0874 - val_loss: 0.0131 - val_mae: 0.0893\n",
      "Epoch 43/256\n",
      "357/357 [==============================] - 1s 3ms/step - loss: 0.0128 - mae: 0.0875 - val_loss: 0.0131 - val_mae: 0.0878\n",
      "Epoch 44/256\n",
      "357/357 [==============================] - 1s 2ms/step - loss: 0.0128 - mae: 0.0873 - val_loss: 0.0131 - val_mae: 0.0886\n",
      "Epoch 45/256\n",
      "357/357 [==============================] - 1s 2ms/step - loss: 0.0128 - mae: 0.0872 - val_loss: 0.0131 - val_mae: 0.0878\n",
      "Epoch 46/256\n",
      "357/357 [==============================] - 1s 3ms/step - loss: 0.0127 - mae: 0.0872 - val_loss: 0.0131 - val_mae: 0.0886\n",
      "Epoch 47/256\n",
      "357/357 [==============================] - 1s 2ms/step - loss: 0.0128 - mae: 0.0872 - val_loss: 0.0131 - val_mae: 0.0879\n",
      "Epoch 48/256\n",
      "357/357 [==============================] - 1s 3ms/step - loss: 0.0128 - mae: 0.0871 - val_loss: 0.0130 - val_mae: 0.0884\n",
      "Epoch 49/256\n",
      "357/357 [==============================] - 1s 3ms/step - loss: 0.0127 - mae: 0.0872 - val_loss: 0.0131 - val_mae: 0.0873\n",
      "Epoch 50/256\n",
      "357/357 [==============================] - 1s 3ms/step - loss: 0.0127 - mae: 0.0871 - val_loss: 0.0131 - val_mae: 0.0883\n",
      "Epoch 51/256\n",
      "357/357 [==============================] - 1s 2ms/step - loss: 0.0127 - mae: 0.0871 - val_loss: 0.0130 - val_mae: 0.0878\n",
      "Epoch 52/256\n",
      "357/357 [==============================] - 1s 3ms/step - loss: 0.0127 - mae: 0.0871 - val_loss: 0.0131 - val_mae: 0.0875\n",
      "Epoch 53/256\n",
      "357/357 [==============================] - 1s 3ms/step - loss: 0.0127 - mae: 0.0872 - val_loss: 0.0130 - val_mae: 0.0875\n",
      "Epoch 54/256\n",
      "357/357 [==============================] - 1s 3ms/step - loss: 0.0127 - mae: 0.0871 - val_loss: 0.0131 - val_mae: 0.0878\n",
      "Epoch 55/256\n",
      "357/357 [==============================] - 1s 3ms/step - loss: 0.0127 - mae: 0.0870 - val_loss: 0.0131 - val_mae: 0.0877\n",
      "Epoch 56/256\n",
      "357/357 [==============================] - 1s 2ms/step - loss: 0.0127 - mae: 0.0869 - val_loss: 0.0130 - val_mae: 0.0884\n",
      "Epoch 57/256\n",
      "357/357 [==============================] - 1s 2ms/step - loss: 0.0127 - mae: 0.0871 - val_loss: 0.0130 - val_mae: 0.0878\n",
      "Epoch 58/256\n",
      "357/357 [==============================] - 1s 3ms/step - loss: 0.0127 - mae: 0.0870 - val_loss: 0.0130 - val_mae: 0.0885\n",
      "Epoch 59/256\n",
      "357/357 [==============================] - 1s 3ms/step - loss: 0.0127 - mae: 0.0869 - val_loss: 0.0130 - val_mae: 0.0877\n",
      "Epoch 60/256\n",
      " 91/357 [======>.......................] - ETA: 0s - loss: 0.0128 - mae: 0.0874"
     ]
    }
   ],
   "source": [
    "# Normal Dataset\n",
    "model.compile(loss='mse', optimizer = 'adam', metrics=['mae'])\n",
    "history = model.fit(XTRAIN, YTRAIN, validation_data=(XVALID, YVALID), epochs = 256, batch_size=64, verbose=1)"
   ]
  },
  {
   "cell_type": "code",
   "execution_count": null,
   "metadata": {
    "colab": {
     "base_uri": "https://localhost:8080/",
     "height": 34
    },
    "executionInfo": {
     "elapsed": 276,
     "status": "ok",
     "timestamp": 1603221397024,
     "user": {
      "displayName": "Jesse McCarville-Schueths",
      "photoUrl": "https://lh3.googleusercontent.com/a-/AOh14GiX6qEkjaRBW0uWEqGcQ_qi2MlFxEEdL1rWrNfmKQ=s64",
      "userId": "02818289306362422887"
     },
     "user_tz": 300
    },
    "id": "0CKZBkSUfXXh",
    "outputId": "206fd6b8-aedf-4310-a3b4-ab787e0c9946"
   },
   "outputs": [],
   "source": [
    "print(history.params)"
   ]
  },
  {
   "cell_type": "code",
   "execution_count": null,
   "metadata": {
    "colab": {
     "base_uri": "https://localhost:8080/",
     "height": 281
    },
    "executionInfo": {
     "elapsed": 366,
     "status": "ok",
     "timestamp": 1603221398792,
     "user": {
      "displayName": "Jesse McCarville-Schueths",
      "photoUrl": "https://lh3.googleusercontent.com/a-/AOh14GiX6qEkjaRBW0uWEqGcQ_qi2MlFxEEdL1rWrNfmKQ=s64",
      "userId": "02818289306362422887"
     },
     "user_tz": 300
    },
    "id": "lZvjAXKuXTRX",
    "outputId": "7719fef6-a639-47e6-c932-12df768454cc"
   },
   "outputs": [],
   "source": [
    "# Plot the learning curves (loss/accuracy/MAE)\n",
    "plt.plot(history.history['loss']) # replace with accuracy/MAE\n",
    "plt.plot(history.history['mae']) # replace with val_accuracy, etc.\n",
    "plt.ylabel('Accuracy')\n",
    "plt.xlabel('epoch')\n",
    "plt.legend(['training data', 'validation data'], loc='lower right')\n",
    "plt.show()"
   ]
  },
  {
   "cell_type": "markdown",
   "metadata": {
    "id": "IzbtsUuKrLFl"
   },
   "source": [
    "## Small Validation NN"
   ]
  },
  {
   "cell_type": "code",
   "execution_count": null,
   "metadata": {
    "executionInfo": {
     "elapsed": 298,
     "status": "ok",
     "timestamp": 1603221415373,
     "user": {
      "displayName": "Jesse McCarville-Schueths",
      "photoUrl": "https://lh3.googleusercontent.com/a-/AOh14GiX6qEkjaRBW0uWEqGcQ_qi2MlFxEEdL1rWrNfmKQ=s64",
      "userId": "02818289306362422887"
     },
     "user_tz": 300
    },
    "id": "ENl1YvqerLFr"
   },
   "outputs": [],
   "source": [
    "modelsv = Sequential()\n",
    "modelsv.add(Dense(13, input_dim=len(XTRAIN[0, :]), activation='relu'))\n",
    "modelsv.add(Dense(7, activation='relu'))\n",
    "modelsv.add(Dense(1, activation='sigmoid'))"
   ]
  },
  {
   "cell_type": "code",
   "execution_count": null,
   "metadata": {
    "executionInfo": {
     "elapsed": 194932,
     "status": "ok",
     "timestamp": 1603221610016,
     "user": {
      "displayName": "Jesse McCarville-Schueths",
      "photoUrl": "https://lh3.googleusercontent.com/a-/AOh14GiX6qEkjaRBW0uWEqGcQ_qi2MlFxEEdL1rWrNfmKQ=s64",
      "userId": "02818289306362422887"
     },
     "user_tz": 300
    },
    "id": "hPczQqPxrLFw"
   },
   "outputs": [],
   "source": [
    "# Too Small Validation Set\n",
    "modelsv.compile(loss='mse', optimizer = 'adam', metrics=['mae'])\n",
    "historysv = modelsv.fit(XTRAIN_2, YTRAIN_2, validation_data=(XVALID_2, YVALID_2), epochs = 256, batch_size=128, verbose=1)"
   ]
  },
  {
   "cell_type": "code",
   "execution_count": null,
   "metadata": {
    "colab": {
     "base_uri": "https://localhost:8080/",
     "height": 296
    },
    "executionInfo": {
     "elapsed": 345,
     "status": "ok",
     "timestamp": 1603222140855,
     "user": {
      "displayName": "Jesse McCarville-Schueths",
      "photoUrl": "https://lh3.googleusercontent.com/a-/AOh14GiX6qEkjaRBW0uWEqGcQ_qi2MlFxEEdL1rWrNfmKQ=s64",
      "userId": "02818289306362422887"
     },
     "user_tz": 300
    },
    "id": "ZC81HnnKrLF2",
    "outputId": "e6bdf913-4bc9-4dcf-e0f8-4b387f4485f7"
   },
   "outputs": [],
   "source": [
    "print(historysv.params)\n",
    "plt.plot(historysv.history['loss']) # replace with accuracy/MAE\n",
    "plt.plot(historysv.history['mae']) # replace with val_accuracy, etc.\n",
    "plt.ylabel('Accuracy')\n",
    "plt.xlabel('epoch')\n",
    "plt.legend(['training data', 'validation data'], loc='lower right')\n",
    "plt.show()"
   ]
  },
  {
   "cell_type": "markdown",
   "metadata": {
    "id": "fqU_rnfGsD-A"
   },
   "source": [
    "##Small Training NN"
   ]
  },
  {
   "cell_type": "code",
   "execution_count": null,
   "metadata": {
    "executionInfo": {
     "elapsed": 330,
     "status": "ok",
     "timestamp": 1603221780997,
     "user": {
      "displayName": "Jesse McCarville-Schueths",
      "photoUrl": "https://lh3.googleusercontent.com/a-/AOh14GiX6qEkjaRBW0uWEqGcQ_qi2MlFxEEdL1rWrNfmKQ=s64",
      "userId": "02818289306362422887"
     },
     "user_tz": 300
    },
    "id": "PG1j4-oRsD-C"
   },
   "outputs": [],
   "source": [
    "modelst = Sequential()\n",
    "modelst.add(Dense(13, input_dim=len(XTRAIN[0, :]), activation='relu'))\n",
    "modelst.add(Dense(7, activation='relu'))\n",
    "modelst.add(Dense(1, activation='sigmoid'))"
   ]
  },
  {
   "cell_type": "code",
   "execution_count": null,
   "metadata": {
    "colab": {
     "base_uri": "https://localhost:8080/",
     "height": 1000
    },
    "executionInfo": {
     "elapsed": 123206,
     "status": "ok",
     "timestamp": 1603221937262,
     "user": {
      "displayName": "Jesse McCarville-Schueths",
      "photoUrl": "https://lh3.googleusercontent.com/a-/AOh14GiX6qEkjaRBW0uWEqGcQ_qi2MlFxEEdL1rWrNfmKQ=s64",
      "userId": "02818289306362422887"
     },
     "user_tz": 300
    },
    "id": "-ASabThfsD-F",
    "outputId": "f80df75a-10f8-45ff-f4ef-f94bb2ee4d9a"
   },
   "outputs": [],
   "source": [
    "# Too Small Valid\n",
    "modelst.compile(loss='mse', optimizer = 'adam', metrics=['mae'])\n",
    "historyst = modelst.fit(XTRAIN_98, YTRAIN_98, validation_data=(XVALID_98, YVALID_98), epochs = 256, batch_size=128, verbose=1)"
   ]
  },
  {
   "cell_type": "code",
   "execution_count": null,
   "metadata": {
    "colab": {
     "base_uri": "https://localhost:8080/",
     "height": 296
    },
    "executionInfo": {
     "elapsed": 417,
     "status": "ok",
     "timestamp": 1603222125393,
     "user": {
      "displayName": "Jesse McCarville-Schueths",
      "photoUrl": "https://lh3.googleusercontent.com/a-/AOh14GiX6qEkjaRBW0uWEqGcQ_qi2MlFxEEdL1rWrNfmKQ=s64",
      "userId": "02818289306362422887"
     },
     "user_tz": 300
    },
    "id": "ea40Z7KKsD-J",
    "outputId": "4004cf21-f9fd-4996-958b-7650a4deb616"
   },
   "outputs": [],
   "source": [
    "print(historyst.params)\n",
    "plt.plot(historyst.history['loss']) # replace with accuracy/MAE\n",
    "plt.plot(historyst.history['mae']) # replace with val_accuracy, etc.\n",
    "plt.ylabel('Accuracy')\n",
    "plt.xlabel('epoch')\n",
    "plt.legend(['training data', 'validation data'], loc='lower right')\n",
    "plt.show()"
   ]
  },
  {
   "cell_type": "markdown",
   "metadata": {
    "id": "c4z3LjR8Za8O"
   },
   "source": [
    "##Underfit NN\n"
   ]
  },
  {
   "cell_type": "code",
   "execution_count": null,
   "metadata": {
    "executionInfo": {
     "elapsed": 267,
     "status": "ok",
     "timestamp": 1603222151133,
     "user": {
      "displayName": "Jesse McCarville-Schueths",
      "photoUrl": "https://lh3.googleusercontent.com/a-/AOh14GiX6qEkjaRBW0uWEqGcQ_qi2MlFxEEdL1rWrNfmKQ=s64",
      "userId": "02818289306362422887"
     },
     "user_tz": 300
    },
    "id": "NgcJVGneZRxk"
   },
   "outputs": [],
   "source": [
    "modelu = Sequential()\n",
    "modelu.add(Dense(13, input_dim=len(XTRAIN[0, :]), activation='relu'))\n",
    "modelu.add(Dense(7, activation='relu'))\n",
    "modelu.add(Dense(1, activation='sigmoid'))"
   ]
  },
  {
   "cell_type": "code",
   "execution_count": null,
   "metadata": {
    "colab": {
     "base_uri": "https://localhost:8080/",
     "height": 357
    },
    "executionInfo": {
     "elapsed": 6123,
     "status": "ok",
     "timestamp": 1603222157001,
     "user": {
      "displayName": "Jesse McCarville-Schueths",
      "photoUrl": "https://lh3.googleusercontent.com/a-/AOh14GiX6qEkjaRBW0uWEqGcQ_qi2MlFxEEdL1rWrNfmKQ=s64",
      "userId": "02818289306362422887"
     },
     "user_tz": 300
    },
    "id": "SvNoAP5oZRxu",
    "outputId": "f1444d09-06fd-43bf-e033-42f25c76d427"
   },
   "outputs": [],
   "source": [
    "modelu.compile(loss='mse', optimizer = 'adam', metrics=['mae'])\n",
    "historyu = modelu.fit(XTRAIN, YTRAIN, validation_data=(XVALID, YVALID), epochs = 10, batch_size=128, verbose=1)"
   ]
  },
  {
   "cell_type": "code",
   "execution_count": null,
   "metadata": {
    "colab": {
     "base_uri": "https://localhost:8080/",
     "height": 300
    },
    "executionInfo": {
     "elapsed": 6245,
     "status": "ok",
     "timestamp": 1603222157133,
     "user": {
      "displayName": "Jesse McCarville-Schueths",
      "photoUrl": "https://lh3.googleusercontent.com/a-/AOh14GiX6qEkjaRBW0uWEqGcQ_qi2MlFxEEdL1rWrNfmKQ=s64",
      "userId": "02818289306362422887"
     },
     "user_tz": 300
    },
    "id": "avJesdfZaQ0M",
    "outputId": "59f2daa5-053e-4b52-cf1f-2ee4747da6a9"
   },
   "outputs": [],
   "source": [
    "print(historyu.params)\n",
    "plt.plot(historyu.history['loss']) # replace with accuracy/MAE\n",
    "plt.plot(historyu.history['mae']) # replace with val_accuracy, etc.\n",
    "plt.ylabel('Accuracy')\n",
    "plt.xlabel('epoch')\n",
    "plt.legend(['training data', 'validation data'], loc='lower right')\n",
    "plt.show()"
   ]
  },
  {
   "cell_type": "markdown",
   "metadata": {
    "id": "qOOZSdU1cUrm"
   },
   "source": [
    "##Overfit NN"
   ]
  },
  {
   "cell_type": "code",
   "execution_count": null,
   "metadata": {
    "executionInfo": {
     "elapsed": 238,
     "status": "ok",
     "timestamp": 1603222200281,
     "user": {
      "displayName": "Jesse McCarville-Schueths",
      "photoUrl": "https://lh3.googleusercontent.com/a-/AOh14GiX6qEkjaRBW0uWEqGcQ_qi2MlFxEEdL1rWrNfmKQ=s64",
      "userId": "02818289306362422887"
     },
     "user_tz": 300
    },
    "id": "Y15kHaO7cUrr"
   },
   "outputs": [],
   "source": [
    "modelo = Sequential()\n",
    "modelo.add(Dense(130, input_dim=len(XTRAIN[0, :]), activation='relu'))\n",
    "modelo.add(Dense(130, activation='relu'))\n",
    "modelo.add(Dense(1, activation='sigmoid'))"
   ]
  },
  {
   "cell_type": "code",
   "execution_count": null,
   "metadata": {
    "colab": {
     "base_uri": "https://localhost:8080/",
     "height": 1000
    },
    "executionInfo": {
     "elapsed": 138152,
     "status": "ok",
     "timestamp": 1603222391105,
     "user": {
      "displayName": "Jesse McCarville-Schueths",
      "photoUrl": "https://lh3.googleusercontent.com/a-/AOh14GiX6qEkjaRBW0uWEqGcQ_qi2MlFxEEdL1rWrNfmKQ=s64",
      "userId": "02818289306362422887"
     },
     "user_tz": 300
    },
    "id": "uIK5WfE5esTz",
    "outputId": "de1aa0a1-a854-423e-8579-da7f17e36e4e"
   },
   "outputs": [],
   "source": [
    "modelo.compile(loss='mse', optimizer = 'adam', metrics=['mae'])\n",
    "historyo = modelo.fit(XTRAIN, YTRAIN, validation_data=(XVALID, YVALID), epochs = 256, batch_size=128, verbose=1)"
   ]
  },
  {
   "cell_type": "code",
   "execution_count": null,
   "metadata": {
    "colab": {
     "base_uri": "https://localhost:8080/",
     "height": 296
    },
    "executionInfo": {
     "elapsed": 338,
     "status": "ok",
     "timestamp": 1603222515701,
     "user": {
      "displayName": "Jesse McCarville-Schueths",
      "photoUrl": "https://lh3.googleusercontent.com/a-/AOh14GiX6qEkjaRBW0uWEqGcQ_qi2MlFxEEdL1rWrNfmKQ=s64",
      "userId": "02818289306362422887"
     },
     "user_tz": 300
    },
    "id": "V1qymDtmcUrz",
    "outputId": "ca65526d-1fcb-4a7e-aeb8-3518ed50aa67"
   },
   "outputs": [],
   "source": [
    "print(historyo.params)\n",
    "plt.plot(historyo.history['loss']) # replace with accuracy/MAE\n",
    "plt.plot(historyo.history['mae']) # replace with val_accuracy, etc.\n",
    "plt.ylabel('Accuracy')\n",
    "plt.xlabel('epoch')\n",
    "plt.legend(['training data', 'validation data'], loc='lower right')\n",
    "plt.show()"
   ]
  },
  {
   "cell_type": "code",
   "execution_count": null,
   "metadata": {},
   "outputs": [],
   "source": [
    "! jupyter nbconvert --to html Activity_7_Learning_Curves.ipynb"
   ]
  },
  {
   "cell_type": "code",
   "execution_count": null,
   "metadata": {},
   "outputs": [],
   "source": []
  },
  {
   "cell_type": "code",
   "execution_count": null,
   "metadata": {},
   "outputs": [],
   "source": []
  }
 ],
 "metadata": {
  "accelerator": "GPU",
  "colab": {
   "collapsed_sections": [
    "GsrOfzesllKT",
    "NbK4Yjl3ltQE"
   ],
   "name": "Activity_13_Learning_Curves.ipynb",
   "provenance": [
    {
     "file_id": "https://github.com/zegster/artificial-intelligence/blob/master/activities/notebook/13%20learning%20curves.ipynb",
     "timestamp": 1603202581454
    },
    {
     "file_id": "1u5FFi2vW0CEuZ2j6kxP4vwgwvj0toQWO",
     "timestamp": 1585499952592
    },
    {
     "file_id": "https://github.com/badriadhikari/AI-2020spring/blob/master/notebooks/Regression_NN.ipynb",
     "timestamp": 1582755146911
    }
   ]
  },
  "kernelspec": {
   "display_name": "Python 3",
   "language": "python",
   "name": "python3"
  },
  "language_info": {
   "codemirror_mode": {
    "name": "ipython",
    "version": 3
   },
   "file_extension": ".py",
   "mimetype": "text/x-python",
   "name": "python",
   "nbconvert_exporter": "python",
   "pygments_lexer": "ipython3",
   "version": "3.8.8"
  }
 },
 "nbformat": 4,
 "nbformat_minor": 1
}
