{
 "cells": [
  {
   "cell_type": "markdown",
   "metadata": {
    "colab_type": "text",
    "id": "7kUj8gFFxwTZ"
   },
   "source": [
    "# Predict the Onset of Diabetes Based on Diagnostic Measures (The Pima Indians Diabetes Database)\n",
    "\n",
    "**Reference: https://www.kaggle.com/uciml/pima-indians-diabetes-database  **"
   ]
  },
  {
   "cell_type": "markdown",
   "metadata": {
    "colab_type": "text",
    "id": "2n2UFLYnyNzs"
   },
   "source": [
    "## Step 1: Verify that all requires libraries can be imported  \n",
    "**np.random.seed is for for reproducibility of results**"
   ]
  },
  {
   "cell_type": "code",
   "execution_count": 1,
   "metadata": {
    "colab": {
     "base_uri": "https://localhost:8080/",
     "height": 35
    },
    "colab_type": "code",
    "id": "X2Z70wjAxwTd",
    "outputId": "0f91991e-88c2-44f0-e0a0-209e06b655e5"
   },
   "outputs": [],
   "source": [
    "from keras.models import Sequential\n",
    "from keras.layers import Dense\n",
    "from sklearn.metrics import accuracy_score, precision_score, recall_score, f1_score\n",
    "import numpy as np\n",
    "np.random.seed(7)"
   ]
  },
  {
   "cell_type": "markdown",
   "metadata": {
    "colab_type": "text",
    "id": "NCf94zhzxwTk"
   },
   "source": [
    "## Step 2: Load the data \n",
    "**Questions: **  \n",
    "**- How many rows and columns does the data have?**"
   ]
  },
  {
   "cell_type": "code",
   "execution_count": 2,
   "metadata": {
    "colab": {
     "base_uri": "https://localhost:8080/",
     "height": 35
    },
    "colab_type": "code",
    "id": "Ekgp7YlexwTl",
    "outputId": "cc5e3f29-f257-4be6-a40d-702142907641"
   },
   "outputs": [
    {
     "name": "stdout",
     "output_type": "stream",
     "text": [
      "(768, 9)\n"
     ]
    }
   ],
   "source": [
    "# load pima indians dataset\n",
    "dataset = np.loadtxt(\"https://raw.githubusercontent.com/jbrownlee/Datasets/master/pima-indians-diabetes.data.csv\", delimiter=\",\")\n",
    "print(dataset.shape)"
   ]
  },
  {
   "cell_type": "markdown",
   "metadata": {
    "colab_type": "text",
    "id": "qPNA5gq4zY3b"
   },
   "source": [
    "## Step 3: Preview first 5 rows and all columns  \n",
    "** dataset[0:5, :] = Rows 0 to 4 with all columns **"
   ]
  },
  {
   "cell_type": "code",
   "execution_count": 3,
   "metadata": {
    "colab": {
     "base_uri": "https://localhost:8080/",
     "height": 191
    },
    "colab_type": "code",
    "id": "u1SHBcPAzdPA",
    "outputId": "2e6ed4d0-a549-4d27-e95d-3eb1d3036a22"
   },
   "outputs": [
    {
     "name": "stdout",
     "output_type": "stream",
     "text": [
      "[[6.000e+00 1.480e+02 7.200e+01 3.500e+01 0.000e+00 3.360e+01 6.270e-01\n",
      "  5.000e+01 1.000e+00]\n",
      " [1.000e+00 8.500e+01 6.600e+01 2.900e+01 0.000e+00 2.660e+01 3.510e-01\n",
      "  3.100e+01 0.000e+00]\n",
      " [8.000e+00 1.830e+02 6.400e+01 0.000e+00 0.000e+00 2.330e+01 6.720e-01\n",
      "  3.200e+01 1.000e+00]\n",
      " [1.000e+00 8.900e+01 6.600e+01 2.300e+01 9.400e+01 2.810e+01 1.670e-01\n",
      "  2.100e+01 0.000e+00]\n",
      " [0.000e+00 1.370e+02 4.000e+01 3.500e+01 1.680e+02 4.310e+01 2.288e+00\n",
      "  3.300e+01 1.000e+00]]\n"
     ]
    }
   ],
   "source": [
    "print(dataset[0:5, :])"
   ]
  },
  {
   "cell_type": "markdown",
   "metadata": {
    "colab_type": "text",
    "id": "0Tawem2fxwTo"
   },
   "source": [
    "## Step 4: Split the data (768 rows) into Training Set (first 700 rows) and Validation Set (remaining 68 rows)  \n",
    "**- The first 8 columns (0 to 7) are our features used as input to the model**  \n",
    "**- The last column (8) is the true label (diabetes or not) or the ground truth**    \n",
    "#### Questions:\n",
    "**- What is our input and output? **   \n",
    "**- Why \"0:8\" in X and \"8\" in Y?   **\n"
   ]
  },
  {
   "cell_type": "code",
   "execution_count": 4,
   "metadata": {
    "colab": {},
    "colab_type": "code",
    "id": "ei1fSHBJxwTp"
   },
   "outputs": [],
   "source": [
    "XTRAIN = dataset[:700,0:8]\n",
    "YTRAIN = dataset[:700,8]\n",
    "XVALIDATION = dataset[700:,0:8]\n",
    "YVALIDATION = dataset[700:,8]"
   ]
  },
  {
   "cell_type": "markdown",
   "metadata": {
    "colab_type": "text",
    "id": "_1TpDX4H4c43"
   },
   "source": [
    "## Step 5: Review the dimensions of our Training Dataset and Validation Dataset\n",
    "**Also preview some of the \"input features\" and \"correct labels\" for the datasets**"
   ]
  },
  {
   "cell_type": "code",
   "execution_count": 5,
   "metadata": {
    "colab": {
     "base_uri": "https://localhost:8080/",
     "height": 225
    },
    "colab_type": "code",
    "id": "Ktv3rFpVxwTs",
    "outputId": "7dc4cde9-2a39-466d-c541-f1b98435416a"
   },
   "outputs": [
    {
     "name": "stdout",
     "output_type": "stream",
     "text": [
      "(700, 8)\n",
      "(700,)\n",
      "(68, 8)\n",
      "(68,)\n",
      "[[  6.    148.     72.     35.      0.     33.6     0.627  50.   ]\n",
      " [  1.     85.     66.     29.      0.     26.6     0.351  31.   ]\n",
      " [  8.    183.     64.      0.      0.     23.3     0.672  32.   ]]\n",
      "[1. 0. 1.]\n",
      "[[  2.    122.     76.     27.    200.     35.9     0.483  26.   ]\n",
      " [  6.    125.     78.     31.      0.     27.6     0.565  49.   ]\n",
      " [  1.    168.     88.     29.      0.     35.      0.905  52.   ]]\n",
      "[0. 1. 1.]\n"
     ]
    }
   ],
   "source": [
    "print(XTRAIN.shape)\n",
    "print(YTRAIN.shape)\n",
    "print(XVALIDATION.shape)\n",
    "print(YVALIDATION.shape)\n",
    "print(XTRAIN[0:3,])\n",
    "print(YTRAIN[0:3])\n",
    "print(XVALIDATION[0:3,])\n",
    "print(YVALIDATION[0:3])"
   ]
  },
  {
   "cell_type": "markdown",
   "metadata": {
    "colab_type": "text",
    "id": "-3DxGlB2xwTv"
   },
   "source": [
    "## Step 6: Create a neural network model with 12 neurons in layer 1, 8 neurons in layer 2, and 1 neuron as the last layer\n",
    "**Questions:**  \n",
    "**- Why is input_dim = 8? It can also be replaced with X[0, :]**\n"
   ]
  },
  {
   "cell_type": "code",
   "execution_count": 6,
   "metadata": {
    "colab": {
     "base_uri": "https://localhost:8080/",
     "height": 260
    },
    "colab_type": "code",
    "id": "FhRrPhElxwTw",
    "outputId": "35770356-08a2-4134-f474-30245443c6f2"
   },
   "outputs": [
    {
     "name": "stdout",
     "output_type": "stream",
     "text": [
      "Model: \"sequential\"\n",
      "_________________________________________________________________\n",
      " Layer (type)                Output Shape              Param #   \n",
      "=================================================================\n",
      " dense (Dense)               (None, 12)                108       \n",
      "                                                                 \n",
      " dense_1 (Dense)             (None, 8)                 104       \n",
      "                                                                 \n",
      " dense_2 (Dense)             (None, 1)                 9         \n",
      "                                                                 \n",
      "=================================================================\n",
      "Total params: 221\n",
      "Trainable params: 221\n",
      "Non-trainable params: 0\n",
      "_________________________________________________________________\n",
      "None\n"
     ]
    }
   ],
   "source": [
    "model = Sequential()\n",
    "model.add(Dense(12, input_dim=8, activation='relu'))\n",
    "model.add(Dense(8, activation='relu'))\n",
    "model.add(Dense(1, activation='sigmoid'))\n",
    "print(model.summary())"
   ]
  },
  {
   "cell_type": "markdown",
   "metadata": {
    "colab_type": "text",
    "id": "OJhrMV9xxwT4"
   },
   "source": [
    "## Step 6: Check for proper neural connections by compiling the model"
   ]
  },
  {
   "cell_type": "code",
   "execution_count": 7,
   "metadata": {
    "colab": {},
    "colab_type": "code",
    "id": "jWYDiRrhxwT6"
   },
   "outputs": [],
   "source": [
    "model.compile(loss='binary_crossentropy', optimizer='adam', metrics=['accuracy'])"
   ]
  },
  {
   "cell_type": "markdown",
   "metadata": {
    "colab_type": "text",
    "id": "MlPJMFYAxwT8"
   },
   "source": [
    "## Step 7: Do the Training (i.e. Fit the model)\n",
    "**- We feed XTRAIN into the model and the model calculates errors using YTRAIN**  \n",
    "**- In one epoch the model scans through the entire rows in the XTRAIN**  \n",
    "**- Updating the number of epochs usually increases the accuracy of the model**  \n",
    "**- To observe the accuracy on the VALIDATION data during the training, add \", validation_data = (XTEST, YTEST)\" ** "
   ]
  },
  {
   "cell_type": "code",
   "execution_count": 8,
   "metadata": {
    "colab": {
     "base_uri": "https://localhost:8080/",
     "height": 555
    },
    "colab_type": "code",
    "id": "dytoL_9SxwT9",
    "outputId": "a6dd97b6-4541-4dbe-bd28-e57474a25d61"
   },
   "outputs": [
    {
     "name": "stdout",
     "output_type": "stream",
     "text": [
      "Epoch 1/15\n",
      "70/70 [==============================] - 1s 2ms/step - loss: 14.8397 - accuracy: 0.3614\n",
      "Epoch 2/15\n",
      "70/70 [==============================] - 0s 2ms/step - loss: 1.6610 - accuracy: 0.5957\n",
      "Epoch 3/15\n",
      "70/70 [==============================] - 0s 2ms/step - loss: 1.3505 - accuracy: 0.5957\n",
      "Epoch 4/15\n",
      "70/70 [==============================] - 0s 2ms/step - loss: 1.1135 - accuracy: 0.6414\n",
      "Epoch 5/15\n",
      "70/70 [==============================] - 0s 2ms/step - loss: 0.9675 - accuracy: 0.6671\n",
      "Epoch 6/15\n",
      "70/70 [==============================] - 0s 2ms/step - loss: 0.8602 - accuracy: 0.6200\n",
      "Epoch 7/15\n",
      "70/70 [==============================] - 0s 2ms/step - loss: 0.7574 - accuracy: 0.6429\n",
      "Epoch 8/15\n",
      "70/70 [==============================] - 0s 2ms/step - loss: 0.6836 - accuracy: 0.6700\n",
      "Epoch 9/15\n",
      "70/70 [==============================] - 0s 2ms/step - loss: 0.6424 - accuracy: 0.6771\n",
      "Epoch 10/15\n",
      "70/70 [==============================] - 0s 2ms/step - loss: 0.6358 - accuracy: 0.6686\n",
      "Epoch 11/15\n",
      "70/70 [==============================] - 0s 2ms/step - loss: 0.6233 - accuracy: 0.6814\n",
      "Epoch 12/15\n",
      "70/70 [==============================] - 0s 2ms/step - loss: 0.6033 - accuracy: 0.6971\n",
      "Epoch 13/15\n",
      "70/70 [==============================] - 0s 2ms/step - loss: 0.6158 - accuracy: 0.6914\n",
      "Epoch 14/15\n",
      "70/70 [==============================] - 0s 2ms/step - loss: 0.6205 - accuracy: 0.6714\n",
      "Epoch 15/15\n",
      "70/70 [==============================] - 0s 2ms/step - loss: 0.5995 - accuracy: 0.6800\n"
     ]
    },
    {
     "data": {
      "text/plain": [
       "<keras.callbacks.History at 0x1b95568a9d0>"
      ]
     },
     "execution_count": 8,
     "metadata": {},
     "output_type": "execute_result"
    }
   ],
   "source": [
    "model.fit(XTRAIN, YTRAIN, epochs=15, batch_size=10)"
   ]
  },
  {
   "cell_type": "markdown",
   "metadata": {
    "colab_type": "text",
    "id": "FpNRAdsAxwUC"
   },
   "source": [
    "## Step 8: Evaluate the model on the Training data (the same data we used to train the model)"
   ]
  },
  {
   "cell_type": "code",
   "execution_count": 9,
   "metadata": {
    "colab": {
     "base_uri": "https://localhost:8080/",
     "height": 104
    },
    "colab_type": "code",
    "id": "iXE5jrkWxwUC",
    "outputId": "e3dd507d-264e-4c28-bdec-12846299076e"
   },
   "outputs": [
    {
     "name": "stdout",
     "output_type": "stream",
     "text": [
      "22/22 [==============================] - 0s 2ms/step - loss: 0.5809 - accuracy: 0.7057\n",
      "['loss', 'accuracy']\n",
      "[0.5809301733970642, 0.7057142853736877]\n",
      "\n",
      "accuracy: 70.57%\n"
     ]
    }
   ],
   "source": [
    "scores = model.evaluate(XTRAIN, YTRAIN)\n",
    "print(model.metrics_names)\n",
    "print(scores)\n",
    "print(\"\\n%s: %.2f%%\" % (model.metrics_names[1], scores[1]*100))"
   ]
  },
  {
   "cell_type": "markdown",
   "metadata": {
    "colab_type": "text",
    "id": "bKiUus2cxwUM"
   },
   "source": [
    "## Step 9: The real test of the model we trained\n",
    "** We will evaluate the model on the \"Unknown\" dataset (i.e. validation dataset) **"
   ]
  },
  {
   "cell_type": "code",
   "execution_count": 10,
   "metadata": {
    "colab": {
     "base_uri": "https://localhost:8080/",
     "height": 69
    },
    "colab_type": "code",
    "id": "4AdOsks3xwUN",
    "outputId": "856c5ed2-49e1-44b5-c9a0-032d4a87d40d"
   },
   "outputs": [
    {
     "name": "stdout",
     "output_type": "stream",
     "text": [
      "3/3 [==============================] - 0s 5ms/step - loss: 0.6540 - accuracy: 0.6765\n",
      "\n",
      "accuracy: 67.65%\n"
     ]
    }
   ],
   "source": [
    "scores = model.evaluate(XVALIDATION, YVALIDATION)\n",
    "print(\"\\n%s: %.2f%%\" % (model.metrics_names[1], scores[1]*100))"
   ]
  },
  {
   "cell_type": "markdown",
   "metadata": {
    "colab_type": "text",
    "id": "LcvxStrUxwUS"
   },
   "source": [
    "## Step 10: Look into what the model actually predicted\n",
    "** An example of what the model has predicted and comparison with the true classes **"
   ]
  },
  {
   "cell_type": "code",
   "execution_count": 11,
   "metadata": {
    "colab": {
     "base_uri": "https://localhost:8080/",
     "height": 121
    },
    "colab_type": "code",
    "id": "_yu6sxhTxwUU",
    "outputId": "effa5930-e9f8-428c-d7f5-9161d2cab4b4"
   },
   "outputs": [
    {
     "name": "stdout",
     "output_type": "stream",
     "text": [
      "[[2.00e+00 1.22e+02 7.60e+01 2.70e+01 2.00e+02 3.59e+01 4.83e-01 2.60e+01]\n",
      " [6.00e+00 1.25e+02 7.80e+01 3.10e+01 0.00e+00 2.76e+01 5.65e-01 4.90e+01]\n",
      " [1.00e+00 1.68e+02 8.80e+01 2.90e+01 0.00e+00 3.50e+01 9.05e-01 5.20e+01]\n",
      " [2.00e+00 1.29e+02 0.00e+00 0.00e+00 0.00e+00 3.85e+01 3.04e-01 4.10e+01]\n",
      " [4.00e+00 1.10e+02 7.60e+01 2.00e+01 1.00e+02 2.84e+01 1.18e-01 2.70e+01]]\n",
      "[0. 1. 1. 0. 0.]\n"
     ]
    }
   ],
   "source": [
    "print(XVALIDATION[0:5])\n",
    "print(YVALIDATION[0:5])"
   ]
  },
  {
   "cell_type": "code",
   "execution_count": 12,
   "metadata": {
    "colab": {},
    "colab_type": "code",
    "id": "vYKKA1JfxwUk"
   },
   "outputs": [],
   "source": [
    "prediction = model.predict(XVALIDATION)"
   ]
  },
  {
   "cell_type": "code",
   "execution_count": 13,
   "metadata": {
    "colab": {
     "base_uri": "https://localhost:8080/",
     "height": 104
    },
    "colab_type": "code",
    "id": "krXuEXj8xwUn",
    "outputId": "3c65957a-3036-4b29-cf52-fa911a13f0a9"
   },
   "outputs": [
    {
     "name": "stdout",
     "output_type": "stream",
     "text": [
      "[[0.24133274]\n",
      " [0.57811266]\n",
      " [0.6109135 ]\n",
      " [0.53430307]\n",
      " [0.22089669]]\n"
     ]
    }
   ],
   "source": [
    "print(prediction[0:5])"
   ]
  },
  {
   "cell_type": "code",
   "execution_count": 14,
   "metadata": {
    "colab": {
     "base_uri": "https://localhost:8080/",
     "height": 104
    },
    "colab_type": "code",
    "id": "Xg7sUMwcxwUp",
    "outputId": "acdd76cd-e58e-4a21-d4c8-62bbbab15967"
   },
   "outputs": [
    {
     "name": "stdout",
     "output_type": "stream",
     "text": [
      "[[0.]\n",
      " [1.]\n",
      " [1.]\n",
      " [1.]\n",
      " [0.]]\n"
     ]
    }
   ],
   "source": [
    "print(prediction[0:5].round())"
   ]
  },
  {
   "cell_type": "markdown",
   "metadata": {
    "colab_type": "text",
    "id": "rbZgrutwxwUr"
   },
   "source": [
    "## Step 11: Accuracy is not sufficient to evaluate our model's ability to do binary classification  \n",
    "** We can further evaluate the model using precision, recall, and F1-score **"
   ]
  },
  {
   "cell_type": "code",
   "execution_count": 15,
   "metadata": {
    "colab": {
     "base_uri": "https://localhost:8080/",
     "height": 87
    },
    "colab_type": "code",
    "id": "ScjNBZNYxwUw",
    "outputId": "c484d970-a856-4c13-f552-cf3b5cd42c08"
   },
   "outputs": [
    {
     "name": "stdout",
     "output_type": "stream",
     "text": [
      "Accuracy: 67.65%\n",
      "Precision: 63.16%\n",
      "Recall: 44.44%\n",
      "F1-score: 0.52\n"
     ]
    }
   ],
   "source": [
    "accuracy = accuracy_score(YVALIDATION, prediction.round())\n",
    "precision = precision_score(YVALIDATION, prediction.round())\n",
    "recall = recall_score(YVALIDATION, prediction.round())\n",
    "f1score = f1_score(YVALIDATION, prediction.round())\n",
    "print(\"Accuracy: %.2f%%\" % (accuracy * 100.0))\n",
    "print(\"Precision: %.2f%%\" % (precision * 100.0))\n",
    "print(\"Recall: %.2f%%\" % (recall * 100.0))\n",
    "print(\"F1-score: %.2f\" % (f1score))"
   ]
  },
  {
   "cell_type": "markdown",
   "metadata": {
    "colab_type": "text",
    "id": "qAIlkVsu8-TW"
   },
   "source": [
    "## Step 12: How can the model's performance be improved?  \n",
    "** - Increase the number of epochs to 100 or 150 **  \n",
    "** - Add more layers into the neural networks **  \n",
    "** - Increase/Decrease the number of rows in the training/validation set **"
   ]
  },
  {
   "cell_type": "code",
   "execution_count": null,
   "metadata": {
    "colab": {},
    "colab_type": "code",
    "id": "9qOCQMmL9axc"
   },
   "outputs": [],
   "source": [
    "! jupyter nbconvert --to html NNs_for_Classification.ipynb"
   ]
  }
 ],
 "metadata": {
  "colab": {
   "name": "Predict the onset of diabetes .ipynb",
   "provenance": [],
   "version": "0.3.2"
  },
  "kernelspec": {
   "display_name": "Python 3",
   "language": "python",
   "name": "python3"
  },
  "language_info": {
   "codemirror_mode": {
    "name": "ipython",
    "version": 3
   },
   "file_extension": ".py",
   "mimetype": "text/x-python",
   "name": "python",
   "nbconvert_exporter": "python",
   "pygments_lexer": "ipython3",
   "version": "3.8.8"
  }
 },
 "nbformat": 4,
 "nbformat_minor": 1
}
