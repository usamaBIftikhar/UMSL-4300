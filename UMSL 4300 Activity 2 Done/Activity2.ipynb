{
 "cells": [
  {
   "cell_type": "markdown",
   "id": "7c41045a",
   "metadata": {
    "id": "7c41045a"
   },
   "source": [
    "# Activity 2 Pandas and Matplot and Normalization"
   ]
  },
  {
   "cell_type": "code",
   "execution_count": 2,
   "id": "5ff23f00",
   "metadata": {
    "id": "5ff23f00"
   },
   "outputs": [],
   "source": [
    "import numpy as np\n",
    "import pandas as pd"
   ]
  },
  {
   "cell_type": "code",
   "execution_count": 3,
   "id": "f9986507",
   "metadata": {
    "id": "f9986507"
   },
   "outputs": [],
   "source": [
    "# load pima indians dataset\n",
    "data = np.loadtxt(\"https://raw.githubusercontent.com/jbrownlee/Datasets/master/pima-indians-diabetes.data.csv\", delimiter=\",\")"
   ]
  },
  {
   "cell_type": "code",
   "execution_count": 4,
   "id": "c8f4af3a",
   "metadata": {
    "colab": {
     "base_uri": "https://localhost:8080/"
    },
    "id": "c8f4af3a",
    "outputId": "3abb1d09-6aef-44e0-80e0-79cf8be37547"
   },
   "outputs": [
    {
     "name": "stdout",
     "output_type": "stream",
     "text": [
      "(768, 9)\n"
     ]
    }
   ],
   "source": [
    "print(data.shape)"
   ]
  },
  {
   "cell_type": "code",
   "execution_count": 5,
   "id": "d53fb049",
   "metadata": {
    "id": "d53fb049"
   },
   "outputs": [],
   "source": [
    "X = data[:,:-1]\n",
    "Y = data[:,-1]"
   ]
  },
  {
   "cell_type": "code",
   "execution_count": 6,
   "id": "BQZANZ5XrTHJ",
   "metadata": {
    "id": "BQZANZ5XrTHJ"
   },
   "outputs": [],
   "source": [
    "np.set_printoptions(precision = 2) # does not work for too wide array\n",
    "np.set_printoptions(formatter = {'float': '{: 0.1f}'.format})"
   ]
  },
  {
   "cell_type": "code",
   "execution_count": 7,
   "id": "IoxW7MAHrVrR",
   "metadata": {
    "colab": {
     "base_uri": "https://localhost:8080/"
    },
    "id": "IoxW7MAHrVrR",
    "outputId": "06441dec-de83-4a5c-cf5a-e6cf606193a0"
   },
   "outputs": [
    {
     "name": "stdout",
     "output_type": "stream",
     "text": [
      "[[ 6.0  148.0  72.0  35.0  0.0  33.6  0.6  50.0]\n",
      " [ 1.0  85.0  66.0  29.0  0.0  26.6  0.4  31.0]\n",
      " [ 8.0  183.0  64.0  0.0  0.0  23.3  0.7  32.0]\n",
      " [ 1.0  89.0  66.0  23.0  94.0  28.1  0.2  21.0]\n",
      " [ 0.0  137.0  40.0  35.0  168.0  43.1  2.3  33.0]\n",
      " [ 5.0  116.0  74.0  0.0  0.0  25.6  0.2  30.0]\n",
      " [ 3.0  78.0  50.0  32.0  88.0  31.0  0.2  26.0]\n",
      " [ 10.0  115.0  0.0  0.0  0.0  35.3  0.1  29.0]\n",
      " [ 2.0  197.0  70.0  45.0  543.0  30.5  0.2  53.0]\n",
      " [ 8.0  125.0  96.0  0.0  0.0  0.0  0.2  54.0]]\n"
     ]
    }
   ],
   "source": [
    "print(X[:10])"
   ]
  },
  {
   "cell_type": "code",
   "execution_count": 8,
   "id": "pS4rKMUKrXeH",
   "metadata": {
    "colab": {
     "base_uri": "https://localhost:8080/"
    },
    "id": "pS4rKMUKrXeH",
    "outputId": "18c70d9f-28fc-44ce-80b9-bbab4e82b2d8"
   },
   "outputs": [
    {
     "name": "stdout",
     "output_type": "stream",
     "text": [
      "[ 1.0  0.0  1.0  0.0  1.0  0.0  1.0  0.0  1.0  1.0]\n"
     ]
    }
   ],
   "source": [
    "print(Y[:10])"
   ]
  },
  {
   "cell_type": "code",
   "execution_count": 9,
   "id": "mM3UKlWTrfF8",
   "metadata": {
    "id": "mM3UKlWTrfF8"
   },
   "outputs": [],
   "source": [
    "# Rescaling\n",
    "Y = Y / Y.max()"
   ]
  },
  {
   "cell_type": "code",
   "execution_count": 10,
   "id": "0VOodB3jrgIm",
   "metadata": {
    "id": "0VOodB3jrgIm"
   },
   "outputs": [],
   "source": [
    "# Standardization\n",
    "mean = X.mean(axis = 0)\n",
    "std = X.std(axis = 0)\n",
    "X -= mean\n",
    "X /= std"
   ]
  },
  {
   "cell_type": "code",
   "execution_count": 11,
   "id": "OpJPHpbcrkpV",
   "metadata": {
    "colab": {
     "base_uri": "https://localhost:8080/"
    },
    "id": "OpJPHpbcrkpV",
    "outputId": "8c055e83-b812-40c8-db39-3fc800d545af"
   },
   "outputs": [
    {
     "name": "stdout",
     "output_type": "stream",
     "text": [
      "[ 3.4  32.0  19.3  15.9  115.2  7.9  0.3  11.8]\n",
      "[ 3.8  120.9  69.1  20.5  79.8  32.0  0.5  33.2]\n"
     ]
    }
   ],
   "source": [
    "print(std)\n",
    "print(mean)"
   ]
  },
  {
   "cell_type": "code",
   "execution_count": 12,
   "id": "myHOrYmqrnSm",
   "metadata": {
    "colab": {
     "base_uri": "https://localhost:8080/"
    },
    "id": "myHOrYmqrnSm",
    "outputId": "85776211-54b4-43cc-9173-4e4aebcc9eba"
   },
   "outputs": [
    {
     "name": "stdout",
     "output_type": "stream",
     "text": [
      "[[ 0.6  0.8  0.1  0.9 -0.7  0.2  0.5  1.4]\n",
      " [-0.8 -1.1 -0.2  0.5 -0.7 -0.7 -0.4 -0.2]\n",
      " [ 1.2  1.9 -0.3 -1.3 -0.7 -1.1  0.6 -0.1]\n",
      " [-0.8 -1.0 -0.2  0.2  0.1 -0.5 -0.9 -1.0]\n",
      " [-1.1  0.5 -1.5  0.9  0.8  1.4  5.5 -0.0]\n",
      " [ 0.3 -0.2  0.3 -1.3 -0.7 -0.8 -0.8 -0.3]\n",
      " [-0.3 -1.3 -1.0  0.7  0.1 -0.1 -0.7 -0.6]\n",
      " [ 1.8 -0.2 -3.6 -1.3 -0.7  0.4 -1.0 -0.4]\n",
      " [-0.5  2.4  0.0  1.5  4.0 -0.2 -0.9  1.7]\n",
      " [ 1.2  0.1  1.4 -1.3 -0.7 -4.1 -0.7  1.8]]\n"
     ]
    }
   ],
   "source": [
    "print(X[:10])"
   ]
  },
  {
   "cell_type": "code",
   "execution_count": 13,
   "id": "qCXP-CiaroM5",
   "metadata": {
    "id": "qCXP-CiaroM5"
   },
   "outputs": [],
   "source": [
    "# Min-max normalization\n",
    "min = X.min(axis = 0) \n",
    "max = X.max(axis = 0) \n",
    "X = (X - min) / (max - min)"
   ]
  },
  {
   "cell_type": "code",
   "execution_count": 14,
   "id": "Ss9wQJH9rs-h",
   "metadata": {
    "colab": {
     "base_uri": "https://localhost:8080/"
    },
    "id": "Ss9wQJH9rs-h",
    "outputId": "bb58755b-496c-4f18-b180-534912fa1399"
   },
   "outputs": [
    {
     "name": "stdout",
     "output_type": "stream",
     "text": [
      "[-1.1 -3.8 -3.6 -1.3 -0.7 -4.1 -1.2 -1.0]\n",
      "[ 3.9  2.4  2.7  4.9  6.7  4.5  5.9  4.1]\n",
      "[ 3.8  120.9  69.1  20.5  79.8  32.0  0.5  33.2]\n"
     ]
    }
   ],
   "source": [
    "print(min)\n",
    "print(max)\n",
    "print(mean)"
   ]
  },
  {
   "cell_type": "code",
   "execution_count": 15,
   "id": "r4t0HGN3rwwk",
   "metadata": {
    "colab": {
     "base_uri": "https://localhost:8080/"
    },
    "id": "r4t0HGN3rwwk",
    "outputId": "9e21b038-768d-40c5-e68e-0763f9937f81"
   },
   "outputs": [
    {
     "name": "stdout",
     "output_type": "stream",
     "text": [
      "[[ 0.4  0.7  0.6  0.4  0.0  0.5  0.2  0.5]\n",
      " [ 0.1  0.4  0.5  0.3  0.0  0.4  0.1  0.2]\n",
      " [ 0.5  0.9  0.5  0.0  0.0  0.3  0.3  0.2]\n",
      " [ 0.1  0.4  0.5  0.2  0.1  0.4  0.0  0.0]\n",
      " [ 0.0  0.7  0.3  0.4  0.2  0.6  0.9  0.2]\n",
      " [ 0.3  0.6  0.6  0.0  0.0  0.4  0.1  0.2]\n",
      " [ 0.2  0.4  0.4  0.3  0.1  0.5  0.1  0.1]\n",
      " [ 0.6  0.6  0.0  0.0  0.0  0.5  0.0  0.1]\n",
      " [ 0.1  1.0  0.6  0.5  0.6  0.5  0.0  0.5]\n",
      " [ 0.5  0.6  0.8  0.0  0.0  0.0  0.1  0.6]]\n"
     ]
    }
   ],
   "source": [
    "print(X[:10])"
   ]
  },
  {
   "cell_type": "code",
   "execution_count": 16,
   "id": "8x2s_YsCso1g",
   "metadata": {
    "id": "8x2s_YsCso1g"
   },
   "outputs": [],
   "source": [
    "datanp = pd.DataFrame(data)"
   ]
  },
  {
   "cell_type": "code",
   "execution_count": 17,
   "id": "9e920166",
   "metadata": {
    "colab": {
     "base_uri": "https://localhost:8080/",
     "height": 607
    },
    "id": "9e920166",
    "outputId": "5ac2fec9-2c56-4218-b983-de6f9b760223"
   },
   "outputs": [
    {
     "data": {
      "image/png": "[encoded data removed]",
      "text/plain": [
       "<Figure size 720x720 with 9 Axes>"
      ]
     },
     "metadata": {
      "needs_background": "light"
     },
     "output_type": "display_data"
    }
   ],
   "source": [
    "import matplotlib.pyplot as plt\n",
    "plt.rcParams[\"figure.figsize\"] = ((10,10))\n",
    "datanp.hist()\n",
    "plt.show()"
   ]
  },
  {
   "cell_type": "code",
   "execution_count": 18,
   "id": "19628724",
   "metadata": {
    "colab": {
     "base_uri": "https://localhost:8080/"
    },
    "id": "19628724",
    "outputId": "4cdc6f83-bbfb-4ca8-a42f-dd25356993c0"
   },
   "outputs": [
    {
     "name": "stderr",
     "output_type": "stream",
     "text": [
      "[NbConvertApp] Converting notebook Activity2.ipynb to html\n",
      "[NbConvertApp] Writing 619673 bytes to Activity2.html\n"
     ]
    }
   ],
   "source": [
    "! jupyter nbconvert --to html Activity2.ipynb"
   ]
  }
 ],
 "metadata": {
  "colab": {
   "name": "Activity2.ipynb",
   "provenance": []
  },
  "kernelspec": {
   "display_name": "Python 3",
   "language": "python",
   "name": "python3"
  },
  "language_info": {
   "codemirror_mode": {
    "name": "ipython",
    "version": 3
   },
   "file_extension": ".py",
   "mimetype": "text/x-python",
   "name": "python",
   "nbconvert_exporter": "python",
   "pygments_lexer": "ipython3",
   "version": "3.8.8"
  }
 },
 "nbformat": 4,
 "nbformat_minor": 5
}
